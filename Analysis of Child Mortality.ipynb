{
 "cells": [
  {
   "cell_type": "markdown",
   "metadata": {
    "colab_type": "text",
    "id": "gyq0bJhZP3uJ"
   },
   "source": [
    "# Project Proposal:\n",
    " \n",
    "\n",
    "Data source location:\n",
    "\n",
    "Global Health Observatory data repository:\n",
    "\n",
    "http://apps.who.int/gho/data/node.home >> By Category>> Child Health>> Child mortality and CAUSE OF DEATHS>> Cause of Child Death>> Number of Deaths by Cause>> Number of Deaths by Country>>Diseases\n",
    "\n",
    "Upon clicking on each cause of death I was able to download  dataset by clicking CSV table.\n",
    "\n",
    " \n",
    "\n",
    "Search Terms:\n",
    "\n",
    "WHO data repository.\n",
    "\n",
    "-Data is free to use without violating terms of service.\n",
    "\n",
    "-No existing data analysis or documentation is found.\n",
    "\n",
    "There are 13 CSV files one each for each cause of death.\n",
    "\n",
    "Each csv file has 198 rows and 54 columns and average file size is 0.055MB.\n",
    "\n",
    "Combined datasets have more than 10476 rows and 16 columns.\n",
    "\n",
    " \n",
    "\n",
    "Context of Data:\n",
    "\n",
    "These datasets are about number of deaths between 0-4 years age group from 2000-2017 in all countries around the world.\n",
    "\n",
    " \n",
    "\n",
    "# Hypothesis and Questions to be answered:\n",
    "\n",
    "Null Hypothesis:\n",
    "           African countries have more deaths caused by HIV when compared to other diseases.\n",
    "\n",
    "Alternate Hypothesis:\n",
    "           African countries do not have more deaths caused by HIV when compared to other diseases.\n",
    "\n",
    " \n",
    "\n",
    "To analyze whether the Death rate over the years has been increased or reduced?\n",
    "\n",
    "# Inconsistency Issues:\n",
    "In order to merge all the datasets so as to access required rows and columns, I use melt function to reframe the data and create a new dataframe. \n",
    "\n",
    "# Obervations:\n",
    "1. There are 13 datasets required to perform analysis.\n",
    "2. There is too much of untidy data to clean.\n",
    "\n",
    "# Objectives Learnt :\n",
    "1. How to perform untidy data cleaning.\n",
    "2. How to do data cleaning.Purpose of matplotlib and how to use it.\n",
    "3. Plotting choropleth using pyplots\n",
    "4. How to frame hypothesis questions.\n",
    "5. How to prove hypothesis.\n",
    "6. How to use python country converter.\n",
    "7. Respiratory infections and malaria prematurity are major reasons for the death of many deaths.\n",
    "\n"
   ]
  },
  {
   "cell_type": "markdown",
   "metadata": {},
   "source": [
    "Initially, all the links for the datasets are stored into a list."
   ]
  },
  {
   "cell_type": "code",
   "execution_count": 2,
   "metadata": {
    "colab": {},
    "colab_type": "code",
    "id": "M6q7n8tcP3uM"
   },
   "outputs": [],
   "source": [
    "## Stroing all the download links in a list\n",
    "\n",
    "CSV_URL_List=['https://apps.who.int/gho/athena/data/GHO/MORT_100?filter=COUNTRY:*;CHILDCAUSE:CH2&x-sideaxis=COUNTRY&x-topaxis=YEAR;GHO;CHILDCAUSE;AGEGROUP&profile=crosstable&format=csv',\n",
    "             'https://apps.who.int/gho/athena/data/GHO/MORT_100?filter=COUNTRY:*;CHILDCAUSE:CH3&x-sideaxis=COUNTRY&x-topaxis=YEAR;GHO;CHILDCAUSE;AGEGROUP&profile=crosstable&format=csv',\n",
    "             'https://apps.who.int/gho/athena/data/GHO/MORT_100?filter=COUNTRY:*;CHILDCAUSE:CH6&x-sideaxis=COUNTRY&x-topaxis=YEAR;GHO;CHILDCAUSE;AGEGROUP&profile=crosstable&format=csv',\n",
    "             'https://apps.who.int/gho/athena/data/GHO/MORT_100?filter=COUNTRY:*;CHILDCAUSE:CH7&x-sideaxis=COUNTRY&x-topaxis=YEAR;GHO;CHILDCAUSE;AGEGROUP&profile=crosstable&format=csv',\n",
    "             'https://apps.who.int/gho/athena/data/GHO/MORT_100?filter=COUNTRY:*;CHILDCAUSE:CH8&x-sideaxis=COUNTRY&x-topaxis=YEAR;GHO;CHILDCAUSE;AGEGROUP&profile=crosstable&format=csv',\n",
    "             'https://apps.who.int/gho/athena/data/GHO/MORT_100?filter=COUNTRY:*;CHILDCAUSE:CH9&x-sideaxis=COUNTRY&x-topaxis=YEAR;GHO;CHILDCAUSE;AGEGROUP&profile=crosstable&format=csv',\n",
    "             'https://apps.who.int/gho/athena/data/GHO/MORT_100?filter=COUNTRY:*;CHILDCAUSE:CH10&x-sideaxis=COUNTRY&x-topaxis=YEAR;GHO;CHILDCAUSE;AGEGROUP&profile=crosstable&format=csv',\n",
    "             'https://apps.who.int/gho/athena/data/GHO/MORT_100?filter=COUNTRY:*;CHILDCAUSE:CH11&x-sideaxis=COUNTRY&x-topaxis=YEAR;GHO;CHILDCAUSE;AGEGROUP&profile=crosstable&format=csv',\n",
    "             'https://apps.who.int/gho/athena/data/GHO/MORT_100?filter=COUNTRY:*;CHILDCAUSE:CH12&x-sideaxis=COUNTRY&x-topaxis=YEAR;GHO;CHILDCAUSE;AGEGROUP&profile=crosstable&format=csv',\n",
    "             'https://apps.who.int/gho/athena/data/GHO/MORT_100?filter=COUNTRY:*;CHILDCAUSE:CH13&x-sideaxis=COUNTRY&x-topaxis=YEAR;GHO;CHILDCAUSE;AGEGROUP&profile=crosstable&format=csv',\n",
    "             'https://apps.who.int/gho/athena/data/GHO/MORT_100?filter=COUNTRY:*;CHILDCAUSE:CH15&x-sideaxis=COUNTRY&x-topaxis=YEAR;GHO;CHILDCAUSE;AGEGROUP&profile=crosstable&format=csv',\n",
    "             'https://apps.who.int/gho/athena/data/GHO/MORT_100?filter=COUNTRY:*;CHILDCAUSE:CH16&x-sideaxis=COUNTRY&x-topaxis=YEAR;GHO;CHILDCAUSE;AGEGROUP&profile=crosstable&format=csv',\n",
    "             'https://apps.who.int/gho/athena/data/GHO/MORT_100?filter=COUNTRY:*;CHILDCAUSE:CH17&x-sideaxis=COUNTRY&x-topaxis=YEAR;GHO;CHILDCAUSE;AGEGROUP&profile=crosstable&format=csv']"
   ]
  },
  {
   "cell_type": "markdown",
   "metadata": {},
   "source": [
    "In the below cell, required libraries are imported."
   ]
  },
  {
   "cell_type": "code",
   "execution_count": 3,
   "metadata": {
    "colab": {},
    "colab_type": "code",
    "id": "4gntjl2aP3uU",
    "scrolled": true
   },
   "outputs": [],
   "source": [
    "import pandas as pd\n",
    "import io\n",
    "import requests\n"
   ]
  },
  {
   "cell_type": "markdown",
   "metadata": {},
   "source": [
    "Here, the dataset is downloaded from the link and it is converted into a dataframe."
   ]
  },
  {
   "cell_type": "code",
   "execution_count": 4,
   "metadata": {
    "colab": {},
    "colab_type": "code",
    "id": "d71Hf44kP3ua"
   },
   "outputs": [],
   "source": [
    "## Below code downloads the dataset and reads it as a datframe\n",
    "url=\"https://apps.who.int/gho/athena/data/GHO/MORT_100?filter=COUNTRY:*;CHILDCAUSE:CH2&x-sideaxis=COUNTRY&x-topaxis=YEAR;GHO;CHILDCAUSE;AGEGROUP&profile=crosstable&format=csv\"\n",
    "s=requests.get(url).content\n",
    "c=pd.read_csv(io.StringIO(s.decode('utf-8')))"
   ]
  },
  {
   "cell_type": "markdown",
   "metadata": {},
   "source": [
    "A basic view of the dataset can be observed below."
   ]
  },
  {
   "cell_type": "code",
   "execution_count": 5,
   "metadata": {
    "colab": {},
    "colab_type": "code",
    "id": "kly5U9rYP3uf",
    "outputId": "111ea6c6-507d-48b0-fa01-e6ae8d75fb5f"
   },
   "outputs": [
    {
     "data": {
      "text/html": [
       "<div>\n",
       "<style scoped>\n",
       "    .dataframe tbody tr th:only-of-type {\n",
       "        vertical-align: middle;\n",
       "    }\n",
       "\n",
       "    .dataframe tbody tr th {\n",
       "        vertical-align: top;\n",
       "    }\n",
       "\n",
       "    .dataframe thead th {\n",
       "        text-align: right;\n",
       "    }\n",
       "</style>\n",
       "<table border=\"1\" class=\"dataframe\">\n",
       "  <thead>\n",
       "    <tr style=\"text-align: right;\">\n",
       "      <th></th>\n",
       "      <th>Unnamed: 0</th>\n",
       "      <th>2017</th>\n",
       "      <th>2017.1</th>\n",
       "      <th>2017.2</th>\n",
       "      <th>2016</th>\n",
       "      <th>2016.1</th>\n",
       "      <th>2016.2</th>\n",
       "      <th>2015</th>\n",
       "      <th>2015.1</th>\n",
       "      <th>2015.2</th>\n",
       "      <th>...</th>\n",
       "      <th>2003.2</th>\n",
       "      <th>2002</th>\n",
       "      <th>2002.1</th>\n",
       "      <th>2002.2</th>\n",
       "      <th>2001</th>\n",
       "      <th>2001.1</th>\n",
       "      <th>2001.2</th>\n",
       "      <th>2000</th>\n",
       "      <th>2000.1</th>\n",
       "      <th>2000.2</th>\n",
       "    </tr>\n",
       "  </thead>\n",
       "  <tbody>\n",
       "    <tr>\n",
       "      <th>0</th>\n",
       "      <td>NaN</td>\n",
       "      <td>Number of deaths</td>\n",
       "      <td>Number of deaths</td>\n",
       "      <td>Number of deaths</td>\n",
       "      <td>Number of deaths</td>\n",
       "      <td>Number of deaths</td>\n",
       "      <td>Number of deaths</td>\n",
       "      <td>Number of deaths</td>\n",
       "      <td>Number of deaths</td>\n",
       "      <td>Number of deaths</td>\n",
       "      <td>...</td>\n",
       "      <td>Number of deaths</td>\n",
       "      <td>Number of deaths</td>\n",
       "      <td>Number of deaths</td>\n",
       "      <td>Number of deaths</td>\n",
       "      <td>Number of deaths</td>\n",
       "      <td>Number of deaths</td>\n",
       "      <td>Number of deaths</td>\n",
       "      <td>Number of deaths</td>\n",
       "      <td>Number of deaths</td>\n",
       "      <td>Number of deaths</td>\n",
       "    </tr>\n",
       "    <tr>\n",
       "      <th>1</th>\n",
       "      <td>NaN</td>\n",
       "      <td>HIV/AIDS</td>\n",
       "      <td>HIV/AIDS</td>\n",
       "      <td>HIV/AIDS</td>\n",
       "      <td>HIV/AIDS</td>\n",
       "      <td>HIV/AIDS</td>\n",
       "      <td>HIV/AIDS</td>\n",
       "      <td>HIV/AIDS</td>\n",
       "      <td>HIV/AIDS</td>\n",
       "      <td>HIV/AIDS</td>\n",
       "      <td>...</td>\n",
       "      <td>HIV/AIDS</td>\n",
       "      <td>HIV/AIDS</td>\n",
       "      <td>HIV/AIDS</td>\n",
       "      <td>HIV/AIDS</td>\n",
       "      <td>HIV/AIDS</td>\n",
       "      <td>HIV/AIDS</td>\n",
       "      <td>HIV/AIDS</td>\n",
       "      <td>HIV/AIDS</td>\n",
       "      <td>HIV/AIDS</td>\n",
       "      <td>HIV/AIDS</td>\n",
       "    </tr>\n",
       "    <tr>\n",
       "      <th>2</th>\n",
       "      <td>Country</td>\n",
       "      <td>0-27 days</td>\n",
       "      <td>1-59 months</td>\n",
       "      <td>0-4 years</td>\n",
       "      <td>0-27 days</td>\n",
       "      <td>1-59 months</td>\n",
       "      <td>0-4 years</td>\n",
       "      <td>0-27 days</td>\n",
       "      <td>1-59 months</td>\n",
       "      <td>0-4 years</td>\n",
       "      <td>...</td>\n",
       "      <td>0-4 years</td>\n",
       "      <td>0-27 days</td>\n",
       "      <td>1-59 months</td>\n",
       "      <td>0-4 years</td>\n",
       "      <td>0-27 days</td>\n",
       "      <td>1-59 months</td>\n",
       "      <td>0-4 years</td>\n",
       "      <td>0-27 days</td>\n",
       "      <td>1-59 months</td>\n",
       "      <td>0-4 years</td>\n",
       "    </tr>\n",
       "    <tr>\n",
       "      <th>3</th>\n",
       "      <td>Afghanistan</td>\n",
       "      <td>0</td>\n",
       "      <td>17</td>\n",
       "      <td>17</td>\n",
       "      <td>0</td>\n",
       "      <td>17</td>\n",
       "      <td>17</td>\n",
       "      <td>0</td>\n",
       "      <td>17</td>\n",
       "      <td>17</td>\n",
       "      <td>...</td>\n",
       "      <td>10</td>\n",
       "      <td>0</td>\n",
       "      <td>10</td>\n",
       "      <td>10</td>\n",
       "      <td>0</td>\n",
       "      <td>8</td>\n",
       "      <td>8</td>\n",
       "      <td>0</td>\n",
       "      <td>8</td>\n",
       "      <td>8</td>\n",
       "    </tr>\n",
       "    <tr>\n",
       "      <th>4</th>\n",
       "      <td>Albania</td>\n",
       "      <td>0</td>\n",
       "      <td>2</td>\n",
       "      <td>2</td>\n",
       "      <td>0</td>\n",
       "      <td>2</td>\n",
       "      <td>2</td>\n",
       "      <td>0</td>\n",
       "      <td>1</td>\n",
       "      <td>1</td>\n",
       "      <td>...</td>\n",
       "      <td>0</td>\n",
       "      <td>0</td>\n",
       "      <td>0</td>\n",
       "      <td>0</td>\n",
       "      <td>0</td>\n",
       "      <td>0</td>\n",
       "      <td>0</td>\n",
       "      <td>0</td>\n",
       "      <td>0</td>\n",
       "      <td>0</td>\n",
       "    </tr>\n",
       "  </tbody>\n",
       "</table>\n",
       "<p>5 rows × 55 columns</p>\n",
       "</div>"
      ],
      "text/plain": [
       "    Unnamed: 0               2017             2017.1             2017.2  \\\n",
       "0          NaN   Number of deaths   Number of deaths   Number of deaths   \n",
       "1          NaN           HIV/AIDS           HIV/AIDS           HIV/AIDS   \n",
       "2      Country          0-27 days        1-59 months          0-4 years   \n",
       "3  Afghanistan                  0                 17                 17   \n",
       "4      Albania                  0                  2                  2   \n",
       "\n",
       "                2016             2016.1             2016.2               2015  \\\n",
       "0   Number of deaths   Number of deaths   Number of deaths   Number of deaths   \n",
       "1           HIV/AIDS           HIV/AIDS           HIV/AIDS           HIV/AIDS   \n",
       "2          0-27 days        1-59 months          0-4 years          0-27 days   \n",
       "3                  0                 17                 17                  0   \n",
       "4                  0                  2                  2                  0   \n",
       "\n",
       "              2015.1             2015.2        ...                     2003.2  \\\n",
       "0   Number of deaths   Number of deaths        ...           Number of deaths   \n",
       "1           HIV/AIDS           HIV/AIDS        ...                   HIV/AIDS   \n",
       "2        1-59 months          0-4 years        ...                  0-4 years   \n",
       "3                 17                 17        ...                         10   \n",
       "4                  1                  1        ...                          0   \n",
       "\n",
       "                2002             2002.1             2002.2               2001  \\\n",
       "0   Number of deaths   Number of deaths   Number of deaths   Number of deaths   \n",
       "1           HIV/AIDS           HIV/AIDS           HIV/AIDS           HIV/AIDS   \n",
       "2          0-27 days        1-59 months          0-4 years          0-27 days   \n",
       "3                  0                 10                 10                  0   \n",
       "4                  0                  0                  0                  0   \n",
       "\n",
       "              2001.1             2001.2               2000             2000.1  \\\n",
       "0   Number of deaths   Number of deaths   Number of deaths   Number of deaths   \n",
       "1           HIV/AIDS           HIV/AIDS           HIV/AIDS           HIV/AIDS   \n",
       "2        1-59 months          0-4 years          0-27 days        1-59 months   \n",
       "3                  8                  8                  0                  8   \n",
       "4                  0                  0                  0                  0   \n",
       "\n",
       "              2000.2  \n",
       "0   Number of deaths  \n",
       "1           HIV/AIDS  \n",
       "2          0-4 years  \n",
       "3                  8  \n",
       "4                  0  \n",
       "\n",
       "[5 rows x 55 columns]"
      ]
     },
     "execution_count": 5,
     "metadata": {},
     "output_type": "execute_result"
    }
   ],
   "source": [
    "c.head()"
   ]
  },
  {
   "cell_type": "markdown",
   "metadata": {
    "colab_type": "text",
    "id": "lR16Cu1cP3um"
   },
   "source": [
    "https://stackoverflow.com/questions/53158452/download-a-csv-from-url-and-make-it-a-dataframe-python-pandas/53158849"
   ]
  },
  {
   "cell_type": "markdown",
   "metadata": {},
   "source": [
    "Here, a for loop is used to download all the datasets, read them as dataframes and store them into a list."
   ]
  },
  {
   "cell_type": "code",
   "execution_count": 6,
   "metadata": {
    "colab": {},
    "colab_type": "code",
    "id": "gjX5kQrRP3un"
   },
   "outputs": [],
   "source": [
    "## all the datasets dowloaded and read as dataframes are stored in list a\n",
    "import requests\n",
    "a=[]\n",
    "for x in CSV_URL_List:\n",
    "    url=x\n",
    "    s=requests.get(url).content\n",
    "    y=pd.read_csv(io.StringIO(s.decode('utf-8')))\n",
    "    a.append(y)"
   ]
  },
  {
   "cell_type": "markdown",
   "metadata": {
    "colab_type": "text",
    "id": "h0dq_xWgP3uq"
   },
   "source": [
    "Below is the header file of dataframe in list a at 12th index. Country names are under unnamed:0 column and cause of death is in 2nd row and number of deaths categorised by age group is present in 3rd coulmn. Years being  column names are differentiated by age group."
   ]
  },
  {
   "cell_type": "code",
   "execution_count": 7,
   "metadata": {
    "colab": {},
    "colab_type": "code",
    "id": "OrhaBZACP3ur",
    "outputId": "12bb8d5c-4495-4ad5-8130-65b9aa4caf05",
    "scrolled": true
   },
   "outputs": [
    {
     "data": {
      "text/html": [
       "<div>\n",
       "<style scoped>\n",
       "    .dataframe tbody tr th:only-of-type {\n",
       "        vertical-align: middle;\n",
       "    }\n",
       "\n",
       "    .dataframe tbody tr th {\n",
       "        vertical-align: top;\n",
       "    }\n",
       "\n",
       "    .dataframe thead th {\n",
       "        text-align: right;\n",
       "    }\n",
       "</style>\n",
       "<table border=\"1\" class=\"dataframe\">\n",
       "  <thead>\n",
       "    <tr style=\"text-align: right;\">\n",
       "      <th></th>\n",
       "      <th>Unnamed: 0</th>\n",
       "      <th>2017</th>\n",
       "      <th>2017.1</th>\n",
       "      <th>2017.2</th>\n",
       "      <th>2016</th>\n",
       "      <th>2016.1</th>\n",
       "      <th>2016.2</th>\n",
       "      <th>2015</th>\n",
       "      <th>2015.1</th>\n",
       "      <th>2015.2</th>\n",
       "      <th>...</th>\n",
       "      <th>2003.2</th>\n",
       "      <th>2002</th>\n",
       "      <th>2002.1</th>\n",
       "      <th>2002.2</th>\n",
       "      <th>2001</th>\n",
       "      <th>2001.1</th>\n",
       "      <th>2001.2</th>\n",
       "      <th>2000</th>\n",
       "      <th>2000.1</th>\n",
       "      <th>2000.2</th>\n",
       "    </tr>\n",
       "  </thead>\n",
       "  <tbody>\n",
       "    <tr>\n",
       "      <th>0</th>\n",
       "      <td>NaN</td>\n",
       "      <td>Number of deaths</td>\n",
       "      <td>Number of deaths</td>\n",
       "      <td>Number of deaths</td>\n",
       "      <td>Number of deaths</td>\n",
       "      <td>Number of deaths</td>\n",
       "      <td>Number of deaths</td>\n",
       "      <td>Number of deaths</td>\n",
       "      <td>Number of deaths</td>\n",
       "      <td>Number of deaths</td>\n",
       "      <td>...</td>\n",
       "      <td>Number of deaths</td>\n",
       "      <td>Number of deaths</td>\n",
       "      <td>Number of deaths</td>\n",
       "      <td>Number of deaths</td>\n",
       "      <td>Number of deaths</td>\n",
       "      <td>Number of deaths</td>\n",
       "      <td>Number of deaths</td>\n",
       "      <td>Number of deaths</td>\n",
       "      <td>Number of deaths</td>\n",
       "      <td>Number of deaths</td>\n",
       "    </tr>\n",
       "    <tr>\n",
       "      <th>1</th>\n",
       "      <td>NaN</td>\n",
       "      <td>Injuries</td>\n",
       "      <td>Injuries</td>\n",
       "      <td>Injuries</td>\n",
       "      <td>Injuries</td>\n",
       "      <td>Injuries</td>\n",
       "      <td>Injuries</td>\n",
       "      <td>Injuries</td>\n",
       "      <td>Injuries</td>\n",
       "      <td>Injuries</td>\n",
       "      <td>...</td>\n",
       "      <td>Injuries</td>\n",
       "      <td>Injuries</td>\n",
       "      <td>Injuries</td>\n",
       "      <td>Injuries</td>\n",
       "      <td>Injuries</td>\n",
       "      <td>Injuries</td>\n",
       "      <td>Injuries</td>\n",
       "      <td>Injuries</td>\n",
       "      <td>Injuries</td>\n",
       "      <td>Injuries</td>\n",
       "    </tr>\n",
       "    <tr>\n",
       "      <th>2</th>\n",
       "      <td>Country</td>\n",
       "      <td>0-27 days</td>\n",
       "      <td>1-59 months</td>\n",
       "      <td>0-4 years</td>\n",
       "      <td>0-27 days</td>\n",
       "      <td>1-59 months</td>\n",
       "      <td>0-4 years</td>\n",
       "      <td>0-27 days</td>\n",
       "      <td>1-59 months</td>\n",
       "      <td>0-4 years</td>\n",
       "      <td>...</td>\n",
       "      <td>0-4 years</td>\n",
       "      <td>0-27 days</td>\n",
       "      <td>1-59 months</td>\n",
       "      <td>0-4 years</td>\n",
       "      <td>0-27 days</td>\n",
       "      <td>1-59 months</td>\n",
       "      <td>0-4 years</td>\n",
       "      <td>0-27 days</td>\n",
       "      <td>1-59 months</td>\n",
       "      <td>0-4 years</td>\n",
       "    </tr>\n",
       "    <tr>\n",
       "      <th>3</th>\n",
       "      <td>Afghanistan</td>\n",
       "      <td>500</td>\n",
       "      <td>4024</td>\n",
       "      <td>4524</td>\n",
       "      <td>512</td>\n",
       "      <td>4150</td>\n",
       "      <td>4661</td>\n",
       "      <td>526</td>\n",
       "      <td>4286</td>\n",
       "      <td>4811</td>\n",
       "      <td>...</td>\n",
       "      <td>5423</td>\n",
       "      <td>750</td>\n",
       "      <td>4526</td>\n",
       "      <td>5276</td>\n",
       "      <td>710</td>\n",
       "      <td>4432</td>\n",
       "      <td>5142</td>\n",
       "      <td>684</td>\n",
       "      <td>4292</td>\n",
       "      <td>4975</td>\n",
       "    </tr>\n",
       "    <tr>\n",
       "      <th>4</th>\n",
       "      <td>Albania</td>\n",
       "      <td>3</td>\n",
       "      <td>19</td>\n",
       "      <td>21</td>\n",
       "      <td>3</td>\n",
       "      <td>21</td>\n",
       "      <td>23</td>\n",
       "      <td>3</td>\n",
       "      <td>24</td>\n",
       "      <td>26</td>\n",
       "      <td>...</td>\n",
       "      <td>94</td>\n",
       "      <td>6</td>\n",
       "      <td>100</td>\n",
       "      <td>106</td>\n",
       "      <td>6</td>\n",
       "      <td>113</td>\n",
       "      <td>120</td>\n",
       "      <td>7</td>\n",
       "      <td>127</td>\n",
       "      <td>134</td>\n",
       "    </tr>\n",
       "  </tbody>\n",
       "</table>\n",
       "<p>5 rows × 55 columns</p>\n",
       "</div>"
      ],
      "text/plain": [
       "    Unnamed: 0               2017             2017.1             2017.2  \\\n",
       "0          NaN   Number of deaths   Number of deaths   Number of deaths   \n",
       "1          NaN           Injuries           Injuries           Injuries   \n",
       "2      Country          0-27 days        1-59 months          0-4 years   \n",
       "3  Afghanistan                500               4024               4524   \n",
       "4      Albania                  3                 19                 21   \n",
       "\n",
       "                2016             2016.1             2016.2               2015  \\\n",
       "0   Number of deaths   Number of deaths   Number of deaths   Number of deaths   \n",
       "1           Injuries           Injuries           Injuries           Injuries   \n",
       "2          0-27 days        1-59 months          0-4 years          0-27 days   \n",
       "3                512               4150               4661                526   \n",
       "4                  3                 21                 23                  3   \n",
       "\n",
       "              2015.1             2015.2        ...                     2003.2  \\\n",
       "0   Number of deaths   Number of deaths        ...           Number of deaths   \n",
       "1           Injuries           Injuries        ...                   Injuries   \n",
       "2        1-59 months          0-4 years        ...                  0-4 years   \n",
       "3               4286               4811        ...                       5423   \n",
       "4                 24                 26        ...                         94   \n",
       "\n",
       "                2002             2002.1             2002.2               2001  \\\n",
       "0   Number of deaths   Number of deaths   Number of deaths   Number of deaths   \n",
       "1           Injuries           Injuries           Injuries           Injuries   \n",
       "2          0-27 days        1-59 months          0-4 years          0-27 days   \n",
       "3                750               4526               5276                710   \n",
       "4                  6                100                106                  6   \n",
       "\n",
       "              2001.1             2001.2               2000             2000.1  \\\n",
       "0   Number of deaths   Number of deaths   Number of deaths   Number of deaths   \n",
       "1           Injuries           Injuries           Injuries           Injuries   \n",
       "2        1-59 months          0-4 years          0-27 days        1-59 months   \n",
       "3               4432               5142                684               4292   \n",
       "4                113                120                  7                127   \n",
       "\n",
       "              2000.2  \n",
       "0   Number of deaths  \n",
       "1           Injuries  \n",
       "2          0-4 years  \n",
       "3               4975  \n",
       "4                134  \n",
       "\n",
       "[5 rows x 55 columns]"
      ]
     },
     "execution_count": 7,
     "metadata": {},
     "output_type": "execute_result"
    }
   ],
   "source": [
    "a[12].head() "
   ]
  },
  {
   "cell_type": "markdown",
   "metadata": {},
   "source": [
    "# Data Pre-processing\n",
    "\n",
    "Here, a list of disease names are taken in a variable."
   ]
  },
  {
   "cell_type": "code",
   "execution_count": 8,
   "metadata": {
    "colab": {},
    "colab_type": "code",
    "id": "ExO9NF1xP3uu"
   },
   "outputs": [],
   "source": [
    "## list of disease names \n",
    "list_DF_Names=['HIV/AIDS','Diarrhoeal','Measles','Meningitis','Malaria','Resp_Inf','Prematurity','Birth_Trauma',\n",
    "               'NewBorn_Inf','Commu_Perinatal_Nutri','Congential_Anomalies','Non_Commu','Injuries']"
   ]
  },
  {
   "cell_type": "markdown",
   "metadata": {},
   "source": [
    "creating a function to remove first three rows of every dataframe and storing in new list called list_1\n"
   ]
  },
  {
   "cell_type": "code",
   "execution_count": 9,
   "metadata": {
    "colab": {},
    "colab_type": "code",
    "id": "oD5ZH5g5P3uy"
   },
   "outputs": [],
   "source": [
    "list_1=[]\n",
    "def Dropfunc():\n",
    "    for dataframe in a:\n",
    "        list_1.append(dataframe.drop(dataframe.index[0:3]))"
   ]
  },
  {
   "cell_type": "code",
   "execution_count": 10,
   "metadata": {
    "colab": {},
    "colab_type": "code",
    "id": "JIw8HjUrP3u1"
   },
   "outputs": [],
   "source": [
    "Dropfunc()"
   ]
  },
  {
   "cell_type": "code",
   "execution_count": 11,
   "metadata": {
    "colab": {},
    "colab_type": "code",
    "id": "CSiWNGJsP3u3",
    "outputId": "e9d00e0b-473a-49d6-fbb9-63b124bbb9a2"
   },
   "outputs": [
    {
     "data": {
      "text/html": [
       "<div>\n",
       "<style scoped>\n",
       "    .dataframe tbody tr th:only-of-type {\n",
       "        vertical-align: middle;\n",
       "    }\n",
       "\n",
       "    .dataframe tbody tr th {\n",
       "        vertical-align: top;\n",
       "    }\n",
       "\n",
       "    .dataframe thead th {\n",
       "        text-align: right;\n",
       "    }\n",
       "</style>\n",
       "<table border=\"1\" class=\"dataframe\">\n",
       "  <thead>\n",
       "    <tr style=\"text-align: right;\">\n",
       "      <th></th>\n",
       "      <th>Unnamed: 0</th>\n",
       "      <th>2017</th>\n",
       "      <th>2017.1</th>\n",
       "      <th>2017.2</th>\n",
       "      <th>2016</th>\n",
       "      <th>2016.1</th>\n",
       "      <th>2016.2</th>\n",
       "      <th>2015</th>\n",
       "      <th>2015.1</th>\n",
       "      <th>2015.2</th>\n",
       "      <th>...</th>\n",
       "      <th>2003.2</th>\n",
       "      <th>2002</th>\n",
       "      <th>2002.1</th>\n",
       "      <th>2002.2</th>\n",
       "      <th>2001</th>\n",
       "      <th>2001.1</th>\n",
       "      <th>2001.2</th>\n",
       "      <th>2000</th>\n",
       "      <th>2000.1</th>\n",
       "      <th>2000.2</th>\n",
       "    </tr>\n",
       "  </thead>\n",
       "  <tbody>\n",
       "    <tr>\n",
       "      <th>3</th>\n",
       "      <td>Afghanistan</td>\n",
       "      <td>495</td>\n",
       "      <td>5557</td>\n",
       "      <td>6052</td>\n",
       "      <td>507</td>\n",
       "      <td>6021</td>\n",
       "      <td>6527</td>\n",
       "      <td>529</td>\n",
       "      <td>6543</td>\n",
       "      <td>7071</td>\n",
       "      <td>...</td>\n",
       "      <td>14504</td>\n",
       "      <td>683</td>\n",
       "      <td>14306</td>\n",
       "      <td>14990</td>\n",
       "      <td>668</td>\n",
       "      <td>14751</td>\n",
       "      <td>15419</td>\n",
       "      <td>655</td>\n",
       "      <td>15024</td>\n",
       "      <td>15678</td>\n",
       "    </tr>\n",
       "    <tr>\n",
       "      <th>185</th>\n",
       "      <td>United Arab Emirates</td>\n",
       "      <td>0</td>\n",
       "      <td>5</td>\n",
       "      <td>5</td>\n",
       "      <td>0</td>\n",
       "      <td>5</td>\n",
       "      <td>5</td>\n",
       "      <td>0</td>\n",
       "      <td>5</td>\n",
       "      <td>5</td>\n",
       "      <td>...</td>\n",
       "      <td>4</td>\n",
       "      <td>0</td>\n",
       "      <td>4</td>\n",
       "      <td>4</td>\n",
       "      <td>0</td>\n",
       "      <td>4</td>\n",
       "      <td>4</td>\n",
       "      <td>0</td>\n",
       "      <td>4</td>\n",
       "      <td>4</td>\n",
       "    </tr>\n",
       "    <tr>\n",
       "      <th>60</th>\n",
       "      <td>Estonia</td>\n",
       "      <td>0</td>\n",
       "      <td>0</td>\n",
       "      <td>0</td>\n",
       "      <td>0</td>\n",
       "      <td>0</td>\n",
       "      <td>0</td>\n",
       "      <td>0</td>\n",
       "      <td>0</td>\n",
       "      <td>0</td>\n",
       "      <td>...</td>\n",
       "      <td>1</td>\n",
       "      <td>0</td>\n",
       "      <td>0</td>\n",
       "      <td>0</td>\n",
       "      <td>0</td>\n",
       "      <td>1</td>\n",
       "      <td>1</td>\n",
       "      <td>0</td>\n",
       "      <td>3</td>\n",
       "      <td>3</td>\n",
       "    </tr>\n",
       "    <tr>\n",
       "      <th>14</th>\n",
       "      <td>Bahamas</td>\n",
       "      <td>0</td>\n",
       "      <td>1</td>\n",
       "      <td>1</td>\n",
       "      <td>0</td>\n",
       "      <td>1</td>\n",
       "      <td>1</td>\n",
       "      <td>0</td>\n",
       "      <td>2</td>\n",
       "      <td>2</td>\n",
       "      <td>...</td>\n",
       "      <td>1</td>\n",
       "      <td>0</td>\n",
       "      <td>0</td>\n",
       "      <td>0</td>\n",
       "      <td>0</td>\n",
       "      <td>1</td>\n",
       "      <td>1</td>\n",
       "      <td>0</td>\n",
       "      <td>1</td>\n",
       "      <td>1</td>\n",
       "    </tr>\n",
       "    <tr>\n",
       "      <th>184</th>\n",
       "      <td>Ukraine</td>\n",
       "      <td>0</td>\n",
       "      <td>221</td>\n",
       "      <td>221</td>\n",
       "      <td>0</td>\n",
       "      <td>270</td>\n",
       "      <td>270</td>\n",
       "      <td>0</td>\n",
       "      <td>276</td>\n",
       "      <td>276</td>\n",
       "      <td>...</td>\n",
       "      <td>107</td>\n",
       "      <td>0</td>\n",
       "      <td>121</td>\n",
       "      <td>121</td>\n",
       "      <td>0</td>\n",
       "      <td>142</td>\n",
       "      <td>142</td>\n",
       "      <td>0</td>\n",
       "      <td>167</td>\n",
       "      <td>167</td>\n",
       "    </tr>\n",
       "  </tbody>\n",
       "</table>\n",
       "<p>5 rows × 55 columns</p>\n",
       "</div>"
      ],
      "text/plain": [
       "               Unnamed: 0 2017 2017.1 2017.2 2016 2016.1 2016.2 2015 2015.1  \\\n",
       "3             Afghanistan  495   5557   6052  507   6021   6527  529   6543   \n",
       "185  United Arab Emirates    0      5      5    0      5      5    0      5   \n",
       "60                Estonia    0      0      0    0      0      0    0      0   \n",
       "14                Bahamas    0      1      1    0      1      1    0      2   \n",
       "184               Ukraine    0    221    221    0    270    270    0    276   \n",
       "\n",
       "    2015.2  ...   2003.2 2002 2002.1 2002.2 2001 2001.1 2001.2 2000 2000.1  \\\n",
       "3     7071  ...    14504  683  14306  14990  668  14751  15419  655  15024   \n",
       "185      5  ...        4    0      4      4    0      4      4    0      4   \n",
       "60       0  ...        1    0      0      0    0      1      1    0      3   \n",
       "14       2  ...        1    0      0      0    0      1      1    0      1   \n",
       "184    276  ...      107    0    121    121    0    142    142    0    167   \n",
       "\n",
       "    2000.2  \n",
       "3    15678  \n",
       "185      4  \n",
       "60       3  \n",
       "14       1  \n",
       "184    167  \n",
       "\n",
       "[5 rows x 55 columns]"
      ]
     },
     "execution_count": 11,
     "metadata": {},
     "output_type": "execute_result"
    }
   ],
   "source": [
    "list_1[1].sample(5)"
   ]
  },
  {
   "cell_type": "markdown",
   "metadata": {},
   "source": [
    "Melt function is used to reframe the data set with column names- year, unnamed:0, C"
   ]
  },
  {
   "cell_type": "code",
   "execution_count": 12,
   "metadata": {
    "colab": {},
    "colab_type": "code",
    "id": "Wjf9LdlSP3u5"
   },
   "outputs": [],
   "source": [
    "list_2=[]\n",
    "def melt_Func():\n",
    "    for dataframe in range(len(list_1)):\n",
    "            id_vars = [\"Unnamed: 0\"]\n",
    "            list_2.append(pd.melt(frame=list_1[dataframe],id_vars=id_vars, var_name=\"year\", value_name='C'))"
   ]
  },
  {
   "cell_type": "code",
   "execution_count": 13,
   "metadata": {
    "colab": {},
    "colab_type": "code",
    "id": "MRv5LTr4P3u8"
   },
   "outputs": [],
   "source": [
    "melt_Func()"
   ]
  },
  {
   "cell_type": "code",
   "execution_count": 14,
   "metadata": {
    "colab": {},
    "colab_type": "code",
    "id": "nqzSFJ2OP3vA",
    "outputId": "901da1b6-7dcd-4278-8b89-3c6769a1bba1"
   },
   "outputs": [
    {
     "data": {
      "text/html": [
       "<div>\n",
       "<style scoped>\n",
       "    .dataframe tbody tr th:only-of-type {\n",
       "        vertical-align: middle;\n",
       "    }\n",
       "\n",
       "    .dataframe tbody tr th {\n",
       "        vertical-align: top;\n",
       "    }\n",
       "\n",
       "    .dataframe thead th {\n",
       "        text-align: right;\n",
       "    }\n",
       "</style>\n",
       "<table border=\"1\" class=\"dataframe\">\n",
       "  <thead>\n",
       "    <tr style=\"text-align: right;\">\n",
       "      <th></th>\n",
       "      <th>Unnamed: 0</th>\n",
       "      <th>year</th>\n",
       "      <th>C</th>\n",
       "    </tr>\n",
       "  </thead>\n",
       "  <tbody>\n",
       "    <tr>\n",
       "      <th>8991</th>\n",
       "      <td>Ghana</td>\n",
       "      <td>2002.1</td>\n",
       "      <td>5407</td>\n",
       "    </tr>\n",
       "    <tr>\n",
       "      <th>7021</th>\n",
       "      <td>Comoros</td>\n",
       "      <td>2005</td>\n",
       "      <td>8</td>\n",
       "    </tr>\n",
       "    <tr>\n",
       "      <th>2506</th>\n",
       "      <td>Turkmenistan</td>\n",
       "      <td>2013</td>\n",
       "      <td>13</td>\n",
       "    </tr>\n",
       "    <tr>\n",
       "      <th>4016</th>\n",
       "      <td>Poland</td>\n",
       "      <td>2011.2</td>\n",
       "      <td>4</td>\n",
       "    </tr>\n",
       "    <tr>\n",
       "      <th>6397</th>\n",
       "      <td>Venezuela (Bolivarian Republic of)</td>\n",
       "      <td>2007.2</td>\n",
       "      <td>699</td>\n",
       "    </tr>\n",
       "  </tbody>\n",
       "</table>\n",
       "</div>"
      ],
      "text/plain": [
       "                              Unnamed: 0    year     C\n",
       "8991                               Ghana  2002.1  5407\n",
       "7021                             Comoros    2005     8\n",
       "2506                        Turkmenistan    2013    13\n",
       "4016                              Poland  2011.2     4\n",
       "6397  Venezuela (Bolivarian Republic of)  2007.2   699"
      ]
     },
     "execution_count": 14,
     "metadata": {},
     "output_type": "execute_result"
    }
   ],
   "source": [
    "list_2[1].sample(5)"
   ]
  },
  {
   "cell_type": "markdown",
   "metadata": {
    "colab_type": "text",
    "id": "WZ_JdpQhP3vC"
   },
   "source": [
    "Renaming the column C in each dataframe with the disease name which represents number of deaths caused by that disease"
   ]
  },
  {
   "cell_type": "code",
   "execution_count": 15,
   "metadata": {
    "colab": {},
    "colab_type": "code",
    "id": "qoYupGVmP3vD"
   },
   "outputs": [],
   "source": [
    "HIVAIDS_=list_2[0].rename(columns={'C':'HIV/AIDS'})\n",
    "Diarrhoeal_=list_2[1].rename(columns={'C':'Diarrhoeal'})\n",
    "Measles_=list_2[2].rename(columns={'C':'Measles'})\n",
    "Meningitis_=list_2[3].rename(columns={'C':'Meningitis'})\n",
    "Malaria_=list_2[4].rename(columns={'C':'Malaria'})\n",
    "Resp_Inf_=list_2[5].rename(columns={'C':'Resp_Inf'})\n",
    "Prematurity_=list_2[6].rename(columns={'C':'Prematurity'})\n",
    "Birth_Trauma_=list_2[7].rename(columns={'C':'Birth_Trauma'})\n",
    "NewBorn_Inf_=list_2[8].rename(columns={'C':'NewBorn_Inf'})\n",
    "Commu_Perinatal_Nutri_=list_2[9].rename(columns={'C':'Commu_Perinatal_Nutri'})\n",
    "Congential_Anomalies_=list_2[10].rename(columns={'C':'Congential_Anomalies'})\n",
    "Non_Commu_=list_2[11].rename(columns={'C':'Non_Commu'})\n",
    "Injuries_=list_2[12].rename(columns={'C':'Injuries'})"
   ]
  },
  {
   "cell_type": "markdown",
   "metadata": {
    "colab_type": "text",
    "id": "V2xU61XoP3vG"
   },
   "source": [
    "Now splitting the year column which also have category of age group attached. Creating YEAR and Age_group columns with split data."
   ]
  },
  {
   "cell_type": "code",
   "execution_count": 16,
   "metadata": {
    "colab": {},
    "colab_type": "code",
    "id": "98kXcuhrP3vH"
   },
   "outputs": [],
   "source": [
    "## splitting using .split \n",
    "HIVAIDS_[['YEAR', 'Age_Group']] = HIVAIDS_.year.str.split('.', expand = True)\n",
    "Diarrhoeal_[['YEAR', 'Age_Group']] = Diarrhoeal_.year.str.split('.', expand = True)\n",
    "Measles_[['YEAR', 'Age_Group']] = Measles_.year.str.split('.', expand = True)\n",
    "Meningitis_[['YEAR', 'Age_Group']] = Meningitis_.year.str.split('.', expand = True)\n",
    "Malaria_[['YEAR', 'Age_Group']] = Malaria_.year.str.split('.', expand = True)\n",
    "Resp_Inf_[['YEAR', 'Age_Group']] = Resp_Inf_.year.str.split('.', expand = True)\n",
    "Prematurity_[['YEAR', 'Age_Group']] = Prematurity_.year.str.split('.', expand = True)\n",
    "Birth_Trauma_[['YEAR', 'Age_Group']] = Birth_Trauma_.year.str.split('.', expand = True)\n",
    "NewBorn_Inf_[['YEAR', 'Age_Group']] = NewBorn_Inf_.year.str.split('.', expand = True)\n",
    "Commu_Perinatal_Nutri_[['YEAR', 'Age_Group']] = Commu_Perinatal_Nutri_.year.str.split('.', expand = True)\n",
    "Congential_Anomalies_[['YEAR', 'Age_Group']] = Congential_Anomalies_.year.str.split('.', expand = True)\n",
    "Non_Commu_[['YEAR', 'Age_Group']] = Non_Commu_.year.str.split('.', expand = True)\n",
    "Injuries_[['YEAR', 'Age_Group']] = Injuries_.year.str.split('.', expand = True)"
   ]
  },
  {
   "cell_type": "markdown",
   "metadata": {
    "colab_type": "text",
    "id": "uhwPasxfP3vK"
   },
   "source": [
    "Bringing all the columns representing number of deaths by disease in different data frames in to one dataframe called HIVAIDS."
   ]
  },
  {
   "cell_type": "code",
   "execution_count": 17,
   "metadata": {
    "colab": {},
    "colab_type": "code",
    "id": "GuvvhdGcP3vK"
   },
   "outputs": [],
   "source": [
    "HIVAIDS_['Injuries']=Injuries_['Injuries']\n",
    "HIVAIDS_['Diarrhoeal']=Diarrhoeal_['Diarrhoeal']\n",
    "HIVAIDS_['Measles']=Measles_['Measles']\n",
    "HIVAIDS_['Meningitis']=Meningitis_['Meningitis']\n",
    "HIVAIDS_['Malaria']=Malaria_['Malaria']\n",
    "HIVAIDS_['Resp_Inf']=Resp_Inf_['Resp_Inf']\n",
    "HIVAIDS_['Prematurity']=Prematurity_['Prematurity']\n",
    "HIVAIDS_['Birth_Trauma']=Birth_Trauma_['Birth_Trauma']\n",
    "HIVAIDS_['NewBorn_Inf']=NewBorn_Inf_['NewBorn_Inf']\n",
    "HIVAIDS_['Commu_Perinatal_Nutri']=Commu_Perinatal_Nutri_['Commu_Perinatal_Nutri']\n",
    "HIVAIDS_['Congential_Anomalies']=Congential_Anomalies_['Congential_Anomalies']\n",
    "HIVAIDS_['Non_Commu']=Non_Commu_['Non_Commu']\n"
   ]
  },
  {
   "cell_type": "code",
   "execution_count": 18,
   "metadata": {
    "colab": {},
    "colab_type": "code",
    "id": "_BQ68baiP3vN",
    "outputId": "b66b6e18-491b-4be3-e1dd-32a5618bd487"
   },
   "outputs": [
    {
     "data": {
      "text/html": [
       "<div>\n",
       "<style scoped>\n",
       "    .dataframe tbody tr th:only-of-type {\n",
       "        vertical-align: middle;\n",
       "    }\n",
       "\n",
       "    .dataframe tbody tr th {\n",
       "        vertical-align: top;\n",
       "    }\n",
       "\n",
       "    .dataframe thead th {\n",
       "        text-align: right;\n",
       "    }\n",
       "</style>\n",
       "<table border=\"1\" class=\"dataframe\">\n",
       "  <thead>\n",
       "    <tr style=\"text-align: right;\">\n",
       "      <th></th>\n",
       "      <th>Unnamed: 0</th>\n",
       "      <th>year</th>\n",
       "      <th>HIV/AIDS</th>\n",
       "      <th>YEAR</th>\n",
       "      <th>Age_Group</th>\n",
       "      <th>Injuries</th>\n",
       "      <th>Diarrhoeal</th>\n",
       "      <th>Measles</th>\n",
       "      <th>Meningitis</th>\n",
       "      <th>Malaria</th>\n",
       "      <th>Resp_Inf</th>\n",
       "      <th>Prematurity</th>\n",
       "      <th>Birth_Trauma</th>\n",
       "      <th>NewBorn_Inf</th>\n",
       "      <th>Commu_Perinatal_Nutri</th>\n",
       "      <th>Congential_Anomalies</th>\n",
       "      <th>Non_Commu</th>\n",
       "    </tr>\n",
       "  </thead>\n",
       "  <tbody>\n",
       "    <tr>\n",
       "      <th>0</th>\n",
       "      <td>Afghanistan</td>\n",
       "      <td>2017</td>\n",
       "      <td>0</td>\n",
       "      <td>2017</td>\n",
       "      <td>None</td>\n",
       "      <td>500</td>\n",
       "      <td>495</td>\n",
       "      <td>0</td>\n",
       "      <td>1468</td>\n",
       "      <td>0</td>\n",
       "      <td>3026</td>\n",
       "      <td>13753</td>\n",
       "      <td>11876</td>\n",
       "      <td>6573</td>\n",
       "      <td>2611</td>\n",
       "      <td>3667</td>\n",
       "      <td>26</td>\n",
       "    </tr>\n",
       "    <tr>\n",
       "      <th>1</th>\n",
       "      <td>Albania</td>\n",
       "      <td>2017</td>\n",
       "      <td>0</td>\n",
       "      <td>2017</td>\n",
       "      <td>None</td>\n",
       "      <td>3</td>\n",
       "      <td>0</td>\n",
       "      <td>0</td>\n",
       "      <td>4</td>\n",
       "      <td>0</td>\n",
       "      <td>14</td>\n",
       "      <td>85</td>\n",
       "      <td>25</td>\n",
       "      <td>8</td>\n",
       "      <td>12</td>\n",
       "      <td>55</td>\n",
       "      <td>0</td>\n",
       "    </tr>\n",
       "    <tr>\n",
       "      <th>2</th>\n",
       "      <td>Algeria</td>\n",
       "      <td>2017</td>\n",
       "      <td>0</td>\n",
       "      <td>2017</td>\n",
       "      <td>None</td>\n",
       "      <td>206</td>\n",
       "      <td>28</td>\n",
       "      <td>0</td>\n",
       "      <td>44</td>\n",
       "      <td>0</td>\n",
       "      <td>721</td>\n",
       "      <td>4240</td>\n",
       "      <td>3075</td>\n",
       "      <td>2046</td>\n",
       "      <td>686</td>\n",
       "      <td>2557</td>\n",
       "      <td>38</td>\n",
       "    </tr>\n",
       "    <tr>\n",
       "      <th>3</th>\n",
       "      <td>Andorra</td>\n",
       "      <td>2017</td>\n",
       "      <td>0</td>\n",
       "      <td>2017</td>\n",
       "      <td>None</td>\n",
       "      <td>0</td>\n",
       "      <td>0</td>\n",
       "      <td>0</td>\n",
       "      <td>0</td>\n",
       "      <td>0</td>\n",
       "      <td>0</td>\n",
       "      <td>1</td>\n",
       "      <td>0</td>\n",
       "      <td>0</td>\n",
       "      <td>0</td>\n",
       "      <td>0</td>\n",
       "      <td>0</td>\n",
       "    </tr>\n",
       "    <tr>\n",
       "      <th>4</th>\n",
       "      <td>Angola</td>\n",
       "      <td>2017</td>\n",
       "      <td>27</td>\n",
       "      <td>2017</td>\n",
       "      <td>None</td>\n",
       "      <td>399</td>\n",
       "      <td>177</td>\n",
       "      <td>0</td>\n",
       "      <td>416</td>\n",
       "      <td>0</td>\n",
       "      <td>2702</td>\n",
       "      <td>9809</td>\n",
       "      <td>11557</td>\n",
       "      <td>5468</td>\n",
       "      <td>1923</td>\n",
       "      <td>2981</td>\n",
       "      <td>25</td>\n",
       "    </tr>\n",
       "  </tbody>\n",
       "</table>\n",
       "</div>"
      ],
      "text/plain": [
       "    Unnamed: 0  year HIV/AIDS  YEAR Age_Group Injuries Diarrhoeal Measles  \\\n",
       "0  Afghanistan  2017        0  2017      None      500        495       0   \n",
       "1      Albania  2017        0  2017      None        3          0       0   \n",
       "2      Algeria  2017        0  2017      None      206         28       0   \n",
       "3      Andorra  2017        0  2017      None        0          0       0   \n",
       "4       Angola  2017       27  2017      None      399        177       0   \n",
       "\n",
       "  Meningitis Malaria Resp_Inf Prematurity Birth_Trauma NewBorn_Inf  \\\n",
       "0       1468       0     3026       13753        11876        6573   \n",
       "1          4       0       14          85           25           8   \n",
       "2         44       0      721        4240         3075        2046   \n",
       "3          0       0        0           1            0           0   \n",
       "4        416       0     2702        9809        11557        5468   \n",
       "\n",
       "  Commu_Perinatal_Nutri Congential_Anomalies Non_Commu  \n",
       "0                  2611                 3667        26  \n",
       "1                    12                   55         0  \n",
       "2                   686                 2557        38  \n",
       "3                     0                    0         0  \n",
       "4                  1923                 2981        25  "
      ]
     },
     "execution_count": 18,
     "metadata": {},
     "output_type": "execute_result"
    }
   ],
   "source": [
    "HIVAIDS_.head()"
   ]
  },
  {
   "cell_type": "markdown",
   "metadata": {},
   "source": [
    "The HIVAIDS_ is renamed as MY_DF"
   ]
  },
  {
   "cell_type": "code",
   "execution_count": 19,
   "metadata": {
    "colab": {},
    "colab_type": "code",
    "id": "dcgVEgsoP3vQ"
   },
   "outputs": [],
   "source": [
    "MY_DF=pd.DataFrame(HIVAIDS_)"
   ]
  },
  {
   "cell_type": "code",
   "execution_count": 20,
   "metadata": {
    "colab": {},
    "colab_type": "code",
    "id": "Rt0GYjXaP3vT",
    "outputId": "5300e421-0d6a-4aaa-993e-bdb2f593be0f"
   },
   "outputs": [
    {
     "data": {
      "text/plain": [
       "(10476, 17)"
      ]
     },
     "execution_count": 20,
     "metadata": {},
     "output_type": "execute_result"
    }
   ],
   "source": [
    "MY_DF.shape"
   ]
  },
  {
   "cell_type": "code",
   "execution_count": 21,
   "metadata": {
    "colab": {},
    "colab_type": "code",
    "id": "5V1HwqI7P3vW"
   },
   "outputs": [],
   "source": [
    "MY_DF=MY_DF.drop(['year'],axis=1) ## dropping the year column "
   ]
  },
  {
   "cell_type": "code",
   "execution_count": 22,
   "metadata": {
    "colab": {},
    "colab_type": "code",
    "id": "6Ywfpp7RP3vY",
    "outputId": "22cc5751-aea2-4229-ad8c-6141c804336a"
   },
   "outputs": [
    {
     "data": {
      "text/html": [
       "<div>\n",
       "<style scoped>\n",
       "    .dataframe tbody tr th:only-of-type {\n",
       "        vertical-align: middle;\n",
       "    }\n",
       "\n",
       "    .dataframe tbody tr th {\n",
       "        vertical-align: top;\n",
       "    }\n",
       "\n",
       "    .dataframe thead th {\n",
       "        text-align: right;\n",
       "    }\n",
       "</style>\n",
       "<table border=\"1\" class=\"dataframe\">\n",
       "  <thead>\n",
       "    <tr style=\"text-align: right;\">\n",
       "      <th></th>\n",
       "      <th>Unnamed: 0</th>\n",
       "      <th>HIV/AIDS</th>\n",
       "      <th>YEAR</th>\n",
       "      <th>Age_Group</th>\n",
       "      <th>Injuries</th>\n",
       "      <th>Diarrhoeal</th>\n",
       "      <th>Measles</th>\n",
       "      <th>Meningitis</th>\n",
       "      <th>Malaria</th>\n",
       "      <th>Resp_Inf</th>\n",
       "      <th>Prematurity</th>\n",
       "      <th>Birth_Trauma</th>\n",
       "      <th>NewBorn_Inf</th>\n",
       "      <th>Commu_Perinatal_Nutri</th>\n",
       "      <th>Congential_Anomalies</th>\n",
       "      <th>Non_Commu</th>\n",
       "    </tr>\n",
       "  </thead>\n",
       "  <tbody>\n",
       "    <tr>\n",
       "      <th>0</th>\n",
       "      <td>Afghanistan</td>\n",
       "      <td>0</td>\n",
       "      <td>2017</td>\n",
       "      <td>None</td>\n",
       "      <td>500</td>\n",
       "      <td>495</td>\n",
       "      <td>0</td>\n",
       "      <td>1468</td>\n",
       "      <td>0</td>\n",
       "      <td>3026</td>\n",
       "      <td>13753</td>\n",
       "      <td>11876</td>\n",
       "      <td>6573</td>\n",
       "      <td>2611</td>\n",
       "      <td>3667</td>\n",
       "      <td>26</td>\n",
       "    </tr>\n",
       "    <tr>\n",
       "      <th>1</th>\n",
       "      <td>Albania</td>\n",
       "      <td>0</td>\n",
       "      <td>2017</td>\n",
       "      <td>None</td>\n",
       "      <td>3</td>\n",
       "      <td>0</td>\n",
       "      <td>0</td>\n",
       "      <td>4</td>\n",
       "      <td>0</td>\n",
       "      <td>14</td>\n",
       "      <td>85</td>\n",
       "      <td>25</td>\n",
       "      <td>8</td>\n",
       "      <td>12</td>\n",
       "      <td>55</td>\n",
       "      <td>0</td>\n",
       "    </tr>\n",
       "    <tr>\n",
       "      <th>2</th>\n",
       "      <td>Algeria</td>\n",
       "      <td>0</td>\n",
       "      <td>2017</td>\n",
       "      <td>None</td>\n",
       "      <td>206</td>\n",
       "      <td>28</td>\n",
       "      <td>0</td>\n",
       "      <td>44</td>\n",
       "      <td>0</td>\n",
       "      <td>721</td>\n",
       "      <td>4240</td>\n",
       "      <td>3075</td>\n",
       "      <td>2046</td>\n",
       "      <td>686</td>\n",
       "      <td>2557</td>\n",
       "      <td>38</td>\n",
       "    </tr>\n",
       "    <tr>\n",
       "      <th>3</th>\n",
       "      <td>Andorra</td>\n",
       "      <td>0</td>\n",
       "      <td>2017</td>\n",
       "      <td>None</td>\n",
       "      <td>0</td>\n",
       "      <td>0</td>\n",
       "      <td>0</td>\n",
       "      <td>0</td>\n",
       "      <td>0</td>\n",
       "      <td>0</td>\n",
       "      <td>1</td>\n",
       "      <td>0</td>\n",
       "      <td>0</td>\n",
       "      <td>0</td>\n",
       "      <td>0</td>\n",
       "      <td>0</td>\n",
       "    </tr>\n",
       "    <tr>\n",
       "      <th>4</th>\n",
       "      <td>Angola</td>\n",
       "      <td>27</td>\n",
       "      <td>2017</td>\n",
       "      <td>None</td>\n",
       "      <td>399</td>\n",
       "      <td>177</td>\n",
       "      <td>0</td>\n",
       "      <td>416</td>\n",
       "      <td>0</td>\n",
       "      <td>2702</td>\n",
       "      <td>9809</td>\n",
       "      <td>11557</td>\n",
       "      <td>5468</td>\n",
       "      <td>1923</td>\n",
       "      <td>2981</td>\n",
       "      <td>25</td>\n",
       "    </tr>\n",
       "  </tbody>\n",
       "</table>\n",
       "</div>"
      ],
      "text/plain": [
       "    Unnamed: 0 HIV/AIDS  YEAR Age_Group Injuries Diarrhoeal Measles  \\\n",
       "0  Afghanistan        0  2017      None      500        495       0   \n",
       "1      Albania        0  2017      None        3          0       0   \n",
       "2      Algeria        0  2017      None      206         28       0   \n",
       "3      Andorra        0  2017      None        0          0       0   \n",
       "4       Angola       27  2017      None      399        177       0   \n",
       "\n",
       "  Meningitis Malaria Resp_Inf Prematurity Birth_Trauma NewBorn_Inf  \\\n",
       "0       1468       0     3026       13753        11876        6573   \n",
       "1          4       0       14          85           25           8   \n",
       "2         44       0      721        4240         3075        2046   \n",
       "3          0       0        0           1            0           0   \n",
       "4        416       0     2702        9809        11557        5468   \n",
       "\n",
       "  Commu_Perinatal_Nutri Congential_Anomalies Non_Commu  \n",
       "0                  2611                 3667        26  \n",
       "1                    12                   55         0  \n",
       "2                   686                 2557        38  \n",
       "3                     0                    0         0  \n",
       "4                  1923                 2981        25  "
      ]
     },
     "execution_count": 22,
     "metadata": {},
     "output_type": "execute_result"
    }
   ],
   "source": [
    "MY_DF.head()"
   ]
  },
  {
   "cell_type": "markdown",
   "metadata": {
    "colab_type": "text",
    "id": "tPAzF156P3vb"
   },
   "source": [
    "Age group is categorised into None,1 and 2 categories. So, replacing all None with 0."
   ]
  },
  {
   "cell_type": "code",
   "execution_count": 23,
   "metadata": {
    "colab": {},
    "colab_type": "code",
    "id": "14Vz8XTFP3vb"
   },
   "outputs": [],
   "source": [
    "MY_DF['Age_Group']= MY_DF['Age_Group'].fillna(0)"
   ]
  },
  {
   "cell_type": "code",
   "execution_count": 24,
   "metadata": {
    "colab": {},
    "colab_type": "code",
    "id": "-aV00g08P3vd",
    "outputId": "bd6b14d1-e370-4259-e075-233933dc279b"
   },
   "outputs": [
    {
     "data": {
      "text/plain": [
       "0"
      ]
     },
     "execution_count": 24,
     "metadata": {},
     "output_type": "execute_result"
    }
   ],
   "source": [
    "MY_DF['Age_Group'].isnull().sum()"
   ]
  },
  {
   "cell_type": "code",
   "execution_count": 25,
   "metadata": {
    "colab": {},
    "colab_type": "code",
    "id": "zPeuPQ1aP3vf",
    "outputId": "6263ea13-a970-4d6d-d2ae-bb5ba838099d"
   },
   "outputs": [
    {
     "data": {
      "text/html": [
       "<div>\n",
       "<style scoped>\n",
       "    .dataframe tbody tr th:only-of-type {\n",
       "        vertical-align: middle;\n",
       "    }\n",
       "\n",
       "    .dataframe tbody tr th {\n",
       "        vertical-align: top;\n",
       "    }\n",
       "\n",
       "    .dataframe thead th {\n",
       "        text-align: right;\n",
       "    }\n",
       "</style>\n",
       "<table border=\"1\" class=\"dataframe\">\n",
       "  <thead>\n",
       "    <tr style=\"text-align: right;\">\n",
       "      <th></th>\n",
       "      <th>Unnamed: 0</th>\n",
       "      <th>HIV/AIDS</th>\n",
       "      <th>YEAR</th>\n",
       "      <th>Age_Group</th>\n",
       "      <th>Injuries</th>\n",
       "      <th>Diarrhoeal</th>\n",
       "      <th>Measles</th>\n",
       "      <th>Meningitis</th>\n",
       "      <th>Malaria</th>\n",
       "      <th>Resp_Inf</th>\n",
       "      <th>Prematurity</th>\n",
       "      <th>Birth_Trauma</th>\n",
       "      <th>NewBorn_Inf</th>\n",
       "      <th>Commu_Perinatal_Nutri</th>\n",
       "      <th>Congential_Anomalies</th>\n",
       "      <th>Non_Commu</th>\n",
       "    </tr>\n",
       "  </thead>\n",
       "  <tbody>\n",
       "    <tr>\n",
       "      <th>0</th>\n",
       "      <td>Afghanistan</td>\n",
       "      <td>0</td>\n",
       "      <td>2017</td>\n",
       "      <td>0</td>\n",
       "      <td>500</td>\n",
       "      <td>495</td>\n",
       "      <td>0</td>\n",
       "      <td>1468</td>\n",
       "      <td>0</td>\n",
       "      <td>3026</td>\n",
       "      <td>13753</td>\n",
       "      <td>11876</td>\n",
       "      <td>6573</td>\n",
       "      <td>2611</td>\n",
       "      <td>3667</td>\n",
       "      <td>26</td>\n",
       "    </tr>\n",
       "    <tr>\n",
       "      <th>1</th>\n",
       "      <td>Albania</td>\n",
       "      <td>0</td>\n",
       "      <td>2017</td>\n",
       "      <td>0</td>\n",
       "      <td>3</td>\n",
       "      <td>0</td>\n",
       "      <td>0</td>\n",
       "      <td>4</td>\n",
       "      <td>0</td>\n",
       "      <td>14</td>\n",
       "      <td>85</td>\n",
       "      <td>25</td>\n",
       "      <td>8</td>\n",
       "      <td>12</td>\n",
       "      <td>55</td>\n",
       "      <td>0</td>\n",
       "    </tr>\n",
       "    <tr>\n",
       "      <th>2</th>\n",
       "      <td>Algeria</td>\n",
       "      <td>0</td>\n",
       "      <td>2017</td>\n",
       "      <td>0</td>\n",
       "      <td>206</td>\n",
       "      <td>28</td>\n",
       "      <td>0</td>\n",
       "      <td>44</td>\n",
       "      <td>0</td>\n",
       "      <td>721</td>\n",
       "      <td>4240</td>\n",
       "      <td>3075</td>\n",
       "      <td>2046</td>\n",
       "      <td>686</td>\n",
       "      <td>2557</td>\n",
       "      <td>38</td>\n",
       "    </tr>\n",
       "    <tr>\n",
       "      <th>3</th>\n",
       "      <td>Andorra</td>\n",
       "      <td>0</td>\n",
       "      <td>2017</td>\n",
       "      <td>0</td>\n",
       "      <td>0</td>\n",
       "      <td>0</td>\n",
       "      <td>0</td>\n",
       "      <td>0</td>\n",
       "      <td>0</td>\n",
       "      <td>0</td>\n",
       "      <td>1</td>\n",
       "      <td>0</td>\n",
       "      <td>0</td>\n",
       "      <td>0</td>\n",
       "      <td>0</td>\n",
       "      <td>0</td>\n",
       "    </tr>\n",
       "    <tr>\n",
       "      <th>4</th>\n",
       "      <td>Angola</td>\n",
       "      <td>27</td>\n",
       "      <td>2017</td>\n",
       "      <td>0</td>\n",
       "      <td>399</td>\n",
       "      <td>177</td>\n",
       "      <td>0</td>\n",
       "      <td>416</td>\n",
       "      <td>0</td>\n",
       "      <td>2702</td>\n",
       "      <td>9809</td>\n",
       "      <td>11557</td>\n",
       "      <td>5468</td>\n",
       "      <td>1923</td>\n",
       "      <td>2981</td>\n",
       "      <td>25</td>\n",
       "    </tr>\n",
       "  </tbody>\n",
       "</table>\n",
       "</div>"
      ],
      "text/plain": [
       "    Unnamed: 0 HIV/AIDS  YEAR Age_Group Injuries Diarrhoeal Measles  \\\n",
       "0  Afghanistan        0  2017         0      500        495       0   \n",
       "1      Albania        0  2017         0        3          0       0   \n",
       "2      Algeria        0  2017         0      206         28       0   \n",
       "3      Andorra        0  2017         0        0          0       0   \n",
       "4       Angola       27  2017         0      399        177       0   \n",
       "\n",
       "  Meningitis Malaria Resp_Inf Prematurity Birth_Trauma NewBorn_Inf  \\\n",
       "0       1468       0     3026       13753        11876        6573   \n",
       "1          4       0       14          85           25           8   \n",
       "2         44       0      721        4240         3075        2046   \n",
       "3          0       0        0           1            0           0   \n",
       "4        416       0     2702        9809        11557        5468   \n",
       "\n",
       "  Commu_Perinatal_Nutri Congential_Anomalies Non_Commu  \n",
       "0                  2611                 3667        26  \n",
       "1                    12                   55         0  \n",
       "2                   686                 2557        38  \n",
       "3                     0                    0         0  \n",
       "4                  1923                 2981        25  "
      ]
     },
     "execution_count": 25,
     "metadata": {},
     "output_type": "execute_result"
    }
   ],
   "source": [
    "MY_DF.head()"
   ]
  },
  {
   "cell_type": "markdown",
   "metadata": {
    "colab_type": "text",
    "id": "toF01WISP3vi"
   },
   "source": [
    "As in the initial dataset converting age group to original categories. "
   ]
  },
  {
   "cell_type": "code",
   "execution_count": 26,
   "metadata": {
    "colab": {},
    "colab_type": "code",
    "id": "YzFWJEPUP3vi"
   },
   "outputs": [],
   "source": [
    "MY_DF['Age_Group']= MY_DF['Age_Group'].replace(0, \"0-4 Weeks\") "
   ]
  },
  {
   "cell_type": "code",
   "execution_count": 27,
   "metadata": {
    "colab": {},
    "colab_type": "code",
    "id": "uzLmJt-bP3vm"
   },
   "outputs": [],
   "source": [
    "MY_DF['Age_Group']= MY_DF['Age_Group'].replace('1', \"0-59 Months\")"
   ]
  },
  {
   "cell_type": "code",
   "execution_count": 28,
   "metadata": {
    "colab": {},
    "colab_type": "code",
    "id": "UkCgyaAeP3vp"
   },
   "outputs": [],
   "source": [
    "MY_DF['Age_Group']= MY_DF['Age_Group'].replace('2', \"0-4 Years\")"
   ]
  },
  {
   "cell_type": "code",
   "execution_count": 29,
   "metadata": {
    "colab": {},
    "colab_type": "code",
    "id": "Gi5chl8lP3vr",
    "outputId": "0fe05706-ace3-460a-87e2-fe15e5e39edb"
   },
   "outputs": [
    {
     "data": {
      "text/plain": [
       "Unnamed: 0               object\n",
       "HIV/AIDS                 object\n",
       "YEAR                     object\n",
       "Age_Group                object\n",
       "Injuries                 object\n",
       "Diarrhoeal               object\n",
       "Measles                  object\n",
       "Meningitis               object\n",
       "Malaria                  object\n",
       "Resp_Inf                 object\n",
       "Prematurity              object\n",
       "Birth_Trauma             object\n",
       "NewBorn_Inf              object\n",
       "Commu_Perinatal_Nutri    object\n",
       "Congential_Anomalies     object\n",
       "Non_Commu                object\n",
       "dtype: object"
      ]
     },
     "execution_count": 29,
     "metadata": {},
     "output_type": "execute_result"
    }
   ],
   "source": [
    "MY_DF.dtypes"
   ]
  },
  {
   "cell_type": "markdown",
   "metadata": {},
   "source": [
    "Here, unnamed:0 column name is renamed as country."
   ]
  },
  {
   "cell_type": "code",
   "execution_count": 30,
   "metadata": {
    "colab": {},
    "colab_type": "code",
    "id": "cC4p-oKDP3vt"
   },
   "outputs": [],
   "source": [
    "MY_DF=MY_DF.rename(columns={'Unnamed: 0':\"Country\"}) "
   ]
  },
  {
   "cell_type": "code",
   "execution_count": 31,
   "metadata": {
    "colab": {},
    "colab_type": "code",
    "id": "-eA_SD9LP3vw"
   },
   "outputs": [],
   "source": [
    "## converting all the numerical values to int dtype.\n",
    "convert_dict = {'HIV/AIDS': int, \n",
    "                'YEAR': int,\n",
    "                'Injuries': int,'Diarrhoeal': int,'Measles':int,\n",
    "                'Meningitis':int,'Malaria': int,'Resp_Inf': int,\n",
    "                'Prematurity': int,'Birth_Trauma': int,\n",
    "                'NewBorn_Inf': int,'Commu_Perinatal_Nutri': int,'Congential_Anomalies': int,'Non_Commu':int\n",
    "                } \n",
    "  \n",
    "MY_DF = MY_DF.astype(convert_dict) "
   ]
  },
  {
   "cell_type": "code",
   "execution_count": 32,
   "metadata": {
    "colab": {},
    "colab_type": "code",
    "id": "MYnhXA6sP3vz",
    "outputId": "95105ce1-e69e-46a7-8381-622fd48f09b7"
   },
   "outputs": [
    {
     "data": {
      "text/plain": [
       "Country                  object\n",
       "HIV/AIDS                  int32\n",
       "YEAR                      int32\n",
       "Age_Group                object\n",
       "Injuries                  int32\n",
       "Diarrhoeal                int32\n",
       "Measles                   int32\n",
       "Meningitis                int32\n",
       "Malaria                   int32\n",
       "Resp_Inf                  int32\n",
       "Prematurity               int32\n",
       "Birth_Trauma              int32\n",
       "NewBorn_Inf               int32\n",
       "Commu_Perinatal_Nutri     int32\n",
       "Congential_Anomalies      int32\n",
       "Non_Commu                 int32\n",
       "dtype: object"
      ]
     },
     "execution_count": 32,
     "metadata": {},
     "output_type": "execute_result"
    }
   ],
   "source": [
    "MY_DF.dtypes"
   ]
  },
  {
   "cell_type": "markdown",
   "metadata": {},
   "source": [
    "Here, a new Column called Total is created which gives total deaths in that particular year, country and age group\n"
   ]
  },
  {
   "cell_type": "code",
   "execution_count": 33,
   "metadata": {
    "colab": {},
    "colab_type": "code",
    "id": "nbiBwEYPP3v2"
   },
   "outputs": [],
   "source": [
    "MY_DF['TOTAL_Death']=(MY_DF['HIV/AIDS']+MY_DF['Diarrhoeal']+MY_DF['Measles']+MY_DF['Meningitis']+MY_DF['Malaria']+MY_DF['Resp_Inf']\n",
    "+MY_DF['Prematurity']+MY_DF['Birth_Trauma']+MY_DF['NewBorn_Inf']+MY_DF['Commu_Perinatal_Nutri']+MY_DF['Congential_Anomalies']+MY_DF['Non_Commu']+MY_DF['Injuries'])"
   ]
  },
  {
   "cell_type": "code",
   "execution_count": 34,
   "metadata": {
    "colab": {},
    "colab_type": "code",
    "id": "dtFUFs2bP3v5",
    "outputId": "8b2a30a6-a0f1-4abe-cd81-41f11b139a34"
   },
   "outputs": [
    {
     "data": {
      "text/html": [
       "<div>\n",
       "<style scoped>\n",
       "    .dataframe tbody tr th:only-of-type {\n",
       "        vertical-align: middle;\n",
       "    }\n",
       "\n",
       "    .dataframe tbody tr th {\n",
       "        vertical-align: top;\n",
       "    }\n",
       "\n",
       "    .dataframe thead th {\n",
       "        text-align: right;\n",
       "    }\n",
       "</style>\n",
       "<table border=\"1\" class=\"dataframe\">\n",
       "  <thead>\n",
       "    <tr style=\"text-align: right;\">\n",
       "      <th></th>\n",
       "      <th>Country</th>\n",
       "      <th>HIV/AIDS</th>\n",
       "      <th>YEAR</th>\n",
       "      <th>Age_Group</th>\n",
       "      <th>Injuries</th>\n",
       "      <th>Diarrhoeal</th>\n",
       "      <th>Measles</th>\n",
       "      <th>Meningitis</th>\n",
       "      <th>Malaria</th>\n",
       "      <th>Resp_Inf</th>\n",
       "      <th>Prematurity</th>\n",
       "      <th>Birth_Trauma</th>\n",
       "      <th>NewBorn_Inf</th>\n",
       "      <th>Commu_Perinatal_Nutri</th>\n",
       "      <th>Congential_Anomalies</th>\n",
       "      <th>Non_Commu</th>\n",
       "      <th>TOTAL_Death</th>\n",
       "    </tr>\n",
       "  </thead>\n",
       "  <tbody>\n",
       "    <tr>\n",
       "      <th>0</th>\n",
       "      <td>Afghanistan</td>\n",
       "      <td>0</td>\n",
       "      <td>2017</td>\n",
       "      <td>0-4 Weeks</td>\n",
       "      <td>500</td>\n",
       "      <td>495</td>\n",
       "      <td>0</td>\n",
       "      <td>1468</td>\n",
       "      <td>0</td>\n",
       "      <td>3026</td>\n",
       "      <td>13753</td>\n",
       "      <td>11876</td>\n",
       "      <td>6573</td>\n",
       "      <td>2611</td>\n",
       "      <td>3667</td>\n",
       "      <td>26</td>\n",
       "      <td>43995</td>\n",
       "    </tr>\n",
       "    <tr>\n",
       "      <th>1</th>\n",
       "      <td>Albania</td>\n",
       "      <td>0</td>\n",
       "      <td>2017</td>\n",
       "      <td>0-4 Weeks</td>\n",
       "      <td>3</td>\n",
       "      <td>0</td>\n",
       "      <td>0</td>\n",
       "      <td>4</td>\n",
       "      <td>0</td>\n",
       "      <td>14</td>\n",
       "      <td>85</td>\n",
       "      <td>25</td>\n",
       "      <td>8</td>\n",
       "      <td>12</td>\n",
       "      <td>55</td>\n",
       "      <td>0</td>\n",
       "      <td>206</td>\n",
       "    </tr>\n",
       "    <tr>\n",
       "      <th>2</th>\n",
       "      <td>Algeria</td>\n",
       "      <td>0</td>\n",
       "      <td>2017</td>\n",
       "      <td>0-4 Weeks</td>\n",
       "      <td>206</td>\n",
       "      <td>28</td>\n",
       "      <td>0</td>\n",
       "      <td>44</td>\n",
       "      <td>0</td>\n",
       "      <td>721</td>\n",
       "      <td>4240</td>\n",
       "      <td>3075</td>\n",
       "      <td>2046</td>\n",
       "      <td>686</td>\n",
       "      <td>2557</td>\n",
       "      <td>38</td>\n",
       "      <td>13641</td>\n",
       "    </tr>\n",
       "    <tr>\n",
       "      <th>3</th>\n",
       "      <td>Andorra</td>\n",
       "      <td>0</td>\n",
       "      <td>2017</td>\n",
       "      <td>0-4 Weeks</td>\n",
       "      <td>0</td>\n",
       "      <td>0</td>\n",
       "      <td>0</td>\n",
       "      <td>0</td>\n",
       "      <td>0</td>\n",
       "      <td>0</td>\n",
       "      <td>1</td>\n",
       "      <td>0</td>\n",
       "      <td>0</td>\n",
       "      <td>0</td>\n",
       "      <td>0</td>\n",
       "      <td>0</td>\n",
       "      <td>1</td>\n",
       "    </tr>\n",
       "    <tr>\n",
       "      <th>4</th>\n",
       "      <td>Angola</td>\n",
       "      <td>27</td>\n",
       "      <td>2017</td>\n",
       "      <td>0-4 Weeks</td>\n",
       "      <td>399</td>\n",
       "      <td>177</td>\n",
       "      <td>0</td>\n",
       "      <td>416</td>\n",
       "      <td>0</td>\n",
       "      <td>2702</td>\n",
       "      <td>9809</td>\n",
       "      <td>11557</td>\n",
       "      <td>5468</td>\n",
       "      <td>1923</td>\n",
       "      <td>2981</td>\n",
       "      <td>25</td>\n",
       "      <td>35484</td>\n",
       "    </tr>\n",
       "  </tbody>\n",
       "</table>\n",
       "</div>"
      ],
      "text/plain": [
       "       Country  HIV/AIDS  YEAR  Age_Group  Injuries  Diarrhoeal  Measles  \\\n",
       "0  Afghanistan         0  2017  0-4 Weeks       500         495        0   \n",
       "1      Albania         0  2017  0-4 Weeks         3           0        0   \n",
       "2      Algeria         0  2017  0-4 Weeks       206          28        0   \n",
       "3      Andorra         0  2017  0-4 Weeks         0           0        0   \n",
       "4       Angola        27  2017  0-4 Weeks       399         177        0   \n",
       "\n",
       "   Meningitis  Malaria  Resp_Inf  Prematurity  Birth_Trauma  NewBorn_Inf  \\\n",
       "0        1468        0      3026        13753         11876         6573   \n",
       "1           4        0        14           85            25            8   \n",
       "2          44        0       721         4240          3075         2046   \n",
       "3           0        0         0            1             0            0   \n",
       "4         416        0      2702         9809         11557         5468   \n",
       "\n",
       "   Commu_Perinatal_Nutri  Congential_Anomalies  Non_Commu  TOTAL_Death  \n",
       "0                   2611                  3667         26        43995  \n",
       "1                     12                    55          0          206  \n",
       "2                    686                  2557         38        13641  \n",
       "3                      0                     0          0            1  \n",
       "4                   1923                  2981         25        35484  "
      ]
     },
     "execution_count": 34,
     "metadata": {},
     "output_type": "execute_result"
    }
   ],
   "source": [
    "MY_DF.head()"
   ]
  },
  {
   "cell_type": "markdown",
   "metadata": {
    "colab_type": "text",
    "id": "pSZ06WByP3v8"
   },
   "source": [
    "To answer my question i.e., to know whether number of deaths have been increased or decreased over the years, groupby function is applied on YEAR and Total_Death column."
   ]
  },
  {
   "cell_type": "code",
   "execution_count": 35,
   "metadata": {
    "colab": {},
    "colab_type": "code",
    "id": "ifcpiZB7P3v8",
    "outputId": "2dcb1dbd-d2b3-4fd9-eecc-69199de08361"
   },
   "outputs": [
    {
     "data": {
      "text/plain": [
       "YEAR\n",
       "2000    33713.512027\n",
       "2001    32773.546392\n",
       "2002    31741.082474\n",
       "2003    30961.676976\n",
       "2004    29598.297251\n",
       "2005    28716.378007\n",
       "2006    27391.080756\n",
       "2007    26229.312715\n",
       "2008    25497.068729\n",
       "2009    24579.434708\n",
       "2010    23772.946735\n",
       "2011    23011.429553\n",
       "2012    22002.975945\n",
       "2013    21302.630584\n",
       "2014    20560.254296\n",
       "2015    19894.840206\n",
       "2016    19281.273196\n",
       "2017    18493.951890\n",
       "Name: TOTAL_Death, dtype: float64"
      ]
     },
     "execution_count": 35,
     "metadata": {},
     "output_type": "execute_result"
    }
   ],
   "source": [
    "QUE1=MY_DF.groupby(['YEAR'])['TOTAL_Death'].mean()\n",
    "QUE1"
   ]
  },
  {
   "cell_type": "code",
   "execution_count": 36,
   "metadata": {
    "colab": {},
    "colab_type": "code",
    "id": "8ITofyB0P3v_"
   },
   "outputs": [],
   "source": [
    "import matplotlib.pyplot as plt"
   ]
  },
  {
   "cell_type": "code",
   "execution_count": 66,
   "metadata": {
    "colab": {},
    "colab_type": "code",
    "id": "BpnzukdaP3wF",
    "outputId": "53504635-d4b1-4b0c-ed53-27656950d1b6"
   },
   "outputs": [
    {
     "data": {
      "image/png": "[encoded data removed]",
      "text/plain": [
       "<Figure size 10800x5400 with 1 Axes>"
      ]
     },
     "metadata": {
      "needs_background": "light"
     },
     "output_type": "display_data"
    }
   ],
   "source": [
    "fig, ax = plt.subplots(figsize=(150,75))\n",
    "_=QUE1.plot(kind = 'bar',ax=ax,color='purple')\n",
    "_=plt.xlabel('year(#)',fontsize=90)\n",
    "_=plt.ylabel('Total Death count in a year',fontsize=90)\n",
    "_=plt.title('Compare Death counts across the years ',fontsize=100)\n",
    "_=plt.xticks(rotation='vertical',fontsize=70)\n",
    "_=plt.yticks(fontsize=70)"
   ]
  },
  {
   "cell_type": "markdown",
   "metadata": {
    "colab_type": "text",
    "id": "TFZ_oigHP3wH"
   },
   "source": [
    "# Question Conclusion:\n",
    "Above plot shows that there is a good amount of decrease in death over the years. and it kept decreasing when compared to previous year."
   ]
  },
  {
   "cell_type": "markdown",
   "metadata": {
    "colab_type": "text",
    "id": "D1YtNGyVP3wI"
   },
   "source": [
    "# Hypothesis Question:\n",
    "To work on my hypothesis I have to create continent column for each country present in country column. To convert country to continent i'm using pycountry-convert.34"
   ]
  },
  {
   "cell_type": "code",
   "execution_count": 38,
   "metadata": {
    "colab": {},
    "colab_type": "code",
    "id": "q77-E8T2P3wI",
    "outputId": "2adef3bd-eaa8-47b8-8b60-7cccd1c75662"
   },
   "outputs": [
    {
     "name": "stdout",
     "output_type": "stream",
     "text": [
      "\n",
      "The following command must be run outside of the IPython shell:\n",
      "\n",
      "    $ pip install pycountry-convert\n",
      "\n",
      "The Python package manager (pip) can only be used from outside of IPython.\n",
      "Please reissue the `pip` command in a separate terminal or command prompt.\n",
      "\n",
      "See the Python documentation for more information on how to install packages:\n",
      "\n",
      "    https://docs.python.org/3/installing/\n"
     ]
    }
   ],
   "source": [
    "pip install pycountry-convert"
   ]
  },
  {
   "cell_type": "code",
   "execution_count": 40,
   "metadata": {
    "colab": {},
    "colab_type": "code",
    "id": "tCdS4HmMP3wK"
   },
   "outputs": [],
   "source": [
    "import pycountry_convert as pc\n",
    "import pycountry\n",
    "from pycountry_convert import country_alpha2_to_continent_code, country_name_to_country_alpha2\n",
    "\n",
    "\n"
   ]
  },
  {
   "cell_type": "markdown",
   "metadata": {},
   "source": [
    "Here, all the unique country names in the column \"Country\" are displayed."
   ]
  },
  {
   "cell_type": "code",
   "execution_count": 41,
   "metadata": {
    "colab": {},
    "colab_type": "code",
    "id": "yTrAAaxpP3wN",
    "outputId": "f6a5cc0e-fa26-4e40-96e3-d7f4635302c7"
   },
   "outputs": [
    {
     "data": {
      "text/plain": [
       "array(['Afghanistan', 'Albania', 'Algeria', 'Andorra', 'Angola',\n",
       "       'Antigua and Barbuda', 'Argentina', 'Armenia', 'Australia',\n",
       "       'Austria', 'Azerbaijan', 'Bahamas', 'Bahrain', 'Bangladesh',\n",
       "       'Barbados', 'Belarus', 'Belgium', 'Belize', 'Benin', 'Bhutan',\n",
       "       'Bolivia (Plurinational State of)', 'Bosnia and Herzegovina',\n",
       "       'Botswana', 'Brazil', 'Brunei Darussalam', 'Bulgaria',\n",
       "       'Burkina Faso', 'Burundi', 'Cabo Verde', 'Cambodia', 'Cameroon',\n",
       "       'Canada', 'Central African Republic', 'Chad', 'Chile', 'China',\n",
       "       'Colombia', 'Comoros', 'Congo', 'Cook Islands', 'Costa Rica',\n",
       "       \"Côte d'Ivoire\", 'Croatia', 'Cuba', 'Cyprus', 'Czechia',\n",
       "       \"Democratic People's Republic of Korea\",\n",
       "       'Democratic Republic of the Congo', 'Denmark', 'Djibouti',\n",
       "       'Dominica', 'Dominican Republic', 'Ecuador', 'Egypt',\n",
       "       'El Salvador', 'Equatorial Guinea', 'Eritrea', 'Estonia',\n",
       "       'Eswatini', 'Ethiopia', 'Fiji', 'Finland', 'France', 'Gabon',\n",
       "       'Gambia', 'Georgia', 'Germany', 'Ghana', 'Greece', 'Grenada',\n",
       "       'Guatemala', 'Guinea', 'Guinea-Bissau', 'Guyana', 'Haiti',\n",
       "       'Honduras', 'Hungary', 'Iceland', 'India', 'Indonesia',\n",
       "       'Iran (Islamic Republic of)', 'Iraq', 'Ireland', 'Israel', 'Italy',\n",
       "       'Jamaica', 'Japan', 'Jordan', 'Kazakhstan', 'Kenya', 'Kiribati',\n",
       "       'Kuwait', 'Kyrgyzstan', \"Lao People's Democratic Republic\",\n",
       "       'Latvia', 'Lebanon', 'Lesotho', 'Liberia', 'Libya', 'Lithuania',\n",
       "       'Luxembourg', 'Madagascar', 'Malawi', 'Malaysia', 'Maldives',\n",
       "       'Mali', 'Malta', 'Marshall Islands', 'Mauritania', 'Mauritius',\n",
       "       'Mexico', 'Micronesia (Federated States of)', 'Monaco', 'Mongolia',\n",
       "       'Montenegro', 'Morocco', 'Mozambique', 'Myanmar', 'Namibia',\n",
       "       'Nauru', 'Nepal', 'Netherlands', 'New Zealand', 'Nicaragua',\n",
       "       'Niger', 'Nigeria', 'Niue', 'Norway', 'Oman', 'Pakistan', 'Palau',\n",
       "       'Panama', 'Papua New Guinea', 'Paraguay', 'Peru', 'Philippines',\n",
       "       'Poland', 'Portugal', 'Qatar', 'Republic of Korea',\n",
       "       'Republic of Moldova', 'Republic of North Macedonia', 'Romania',\n",
       "       'Russian Federation', 'Rwanda', 'Saint Kitts and Nevis',\n",
       "       'Saint Lucia', 'Saint Vincent and the Grenadines', 'Samoa',\n",
       "       'San Marino', 'Sao Tome and Principe', 'Saudi Arabia', 'Senegal',\n",
       "       'Serbia', 'Seychelles', 'Sierra Leone', 'Singapore', 'Slovakia',\n",
       "       'Slovenia', 'Solomon Islands', 'Somalia', 'South Africa',\n",
       "       'South Sudan', 'Spain', 'Sri Lanka', 'Sudan', 'Suriname', 'Sweden',\n",
       "       'Switzerland', 'Syrian Arab Republic', 'Tajikistan', 'Thailand',\n",
       "       'Timor-Leste', 'Togo', 'Tonga', 'Trinidad and Tobago', 'Tunisia',\n",
       "       'Turkey', 'Turkmenistan', 'Tuvalu', 'Uganda', 'Ukraine',\n",
       "       'United Arab Emirates',\n",
       "       'United Kingdom of Great Britain and Northern Ireland',\n",
       "       'United Republic of Tanzania', 'United States of America',\n",
       "       'Uruguay', 'Uzbekistan', 'Vanuatu',\n",
       "       'Venezuela (Bolivarian Republic of)', 'Viet Nam', 'Yemen',\n",
       "       'Zambia', 'Zimbabwe'], dtype=object)"
      ]
     },
     "execution_count": 41,
     "metadata": {},
     "output_type": "execute_result"
    }
   ],
   "source": [
    "MY_DF[\"Country\"].unique()"
   ]
  },
  {
   "cell_type": "markdown",
   "metadata": {
    "colab_type": "text",
    "id": "FWWVv7acP3wR"
   },
   "source": [
    "Rows with country names that are not in pycountry_convert format are removed."
   ]
  },
  {
   "cell_type": "code",
   "execution_count": 42,
   "metadata": {
    "colab": {},
    "colab_type": "code",
    "id": "uqi66G4eP3wS"
   },
   "outputs": [],
   "source": [
    "indexNames = MY_DF[(MY_DF['Country'] == 'Bolivia (Plurinational State of)')].index\n",
    "MY_DF.drop(indexNames , inplace=True)"
   ]
  },
  {
   "cell_type": "code",
   "execution_count": 43,
   "metadata": {
    "colab": {},
    "colab_type": "code",
    "id": "iiUnghn3P3wW"
   },
   "outputs": [],
   "source": [
    "indexNames1 = MY_DF[(MY_DF['Country'] == 'Iran (Islamic Republic of)')].index\n",
    "MY_DF.drop(indexNames1 , inplace=True)\n",
    "indexNames2 = MY_DF[(MY_DF['Country'] == 'Micronesia (Federated States of)')].index\n",
    "MY_DF.drop(indexNames2 , inplace=True)\n",
    "indexNames3 = MY_DF[(MY_DF['Country'] == 'Republic of Korea')].index\n",
    "MY_DF.drop(indexNames3, inplace=True)\n",
    "indexNames4 = MY_DF[(MY_DF['Country'] == 'Timor-Leste')].index\n",
    "MY_DF.drop(indexNames4, inplace=True)\n",
    "indexNames5 = MY_DF[(MY_DF['Country'] == 'Venezuela (Bolivarian Republic of)')].index\n",
    "MY_DF.drop(indexNames5, inplace=True)"
   ]
  },
  {
   "cell_type": "code",
   "execution_count": 44,
   "metadata": {
    "colab": {},
    "colab_type": "code",
    "id": "BOyfNvwuP3wZ",
    "outputId": "87c497da-f44c-4a3f-963d-1bf12265b483"
   },
   "outputs": [
    {
     "data": {
      "text/plain": [
       "array(['Afghanistan', 'Albania', 'Algeria', 'Andorra', 'Angola',\n",
       "       'Antigua and Barbuda', 'Argentina', 'Armenia', 'Australia',\n",
       "       'Austria', 'Azerbaijan', 'Bahamas', 'Bahrain', 'Bangladesh',\n",
       "       'Barbados', 'Belarus', 'Belgium', 'Belize', 'Benin', 'Bhutan',\n",
       "       'Bosnia and Herzegovina', 'Botswana', 'Brazil',\n",
       "       'Brunei Darussalam', 'Bulgaria', 'Burkina Faso', 'Burundi',\n",
       "       'Cabo Verde', 'Cambodia', 'Cameroon', 'Canada',\n",
       "       'Central African Republic', 'Chad', 'Chile', 'China', 'Colombia',\n",
       "       'Comoros', 'Congo', 'Cook Islands', 'Costa Rica', \"Côte d'Ivoire\",\n",
       "       'Croatia', 'Cuba', 'Cyprus', 'Czechia',\n",
       "       \"Democratic People's Republic of Korea\",\n",
       "       'Democratic Republic of the Congo', 'Denmark', 'Djibouti',\n",
       "       'Dominica', 'Dominican Republic', 'Ecuador', 'Egypt',\n",
       "       'El Salvador', 'Equatorial Guinea', 'Eritrea', 'Estonia',\n",
       "       'Eswatini', 'Ethiopia', 'Fiji', 'Finland', 'France', 'Gabon',\n",
       "       'Gambia', 'Georgia', 'Germany', 'Ghana', 'Greece', 'Grenada',\n",
       "       'Guatemala', 'Guinea', 'Guinea-Bissau', 'Guyana', 'Haiti',\n",
       "       'Honduras', 'Hungary', 'Iceland', 'India', 'Indonesia', 'Iraq',\n",
       "       'Ireland', 'Israel', 'Italy', 'Jamaica', 'Japan', 'Jordan',\n",
       "       'Kazakhstan', 'Kenya', 'Kiribati', 'Kuwait', 'Kyrgyzstan',\n",
       "       \"Lao People's Democratic Republic\", 'Latvia', 'Lebanon', 'Lesotho',\n",
       "       'Liberia', 'Libya', 'Lithuania', 'Luxembourg', 'Madagascar',\n",
       "       'Malawi', 'Malaysia', 'Maldives', 'Mali', 'Malta',\n",
       "       'Marshall Islands', 'Mauritania', 'Mauritius', 'Mexico', 'Monaco',\n",
       "       'Mongolia', 'Montenegro', 'Morocco', 'Mozambique', 'Myanmar',\n",
       "       'Namibia', 'Nauru', 'Nepal', 'Netherlands', 'New Zealand',\n",
       "       'Nicaragua', 'Niger', 'Nigeria', 'Niue', 'Norway', 'Oman',\n",
       "       'Pakistan', 'Palau', 'Panama', 'Papua New Guinea', 'Paraguay',\n",
       "       'Peru', 'Philippines', 'Poland', 'Portugal', 'Qatar',\n",
       "       'Republic of Moldova', 'Republic of North Macedonia', 'Romania',\n",
       "       'Russian Federation', 'Rwanda', 'Saint Kitts and Nevis',\n",
       "       'Saint Lucia', 'Saint Vincent and the Grenadines', 'Samoa',\n",
       "       'San Marino', 'Sao Tome and Principe', 'Saudi Arabia', 'Senegal',\n",
       "       'Serbia', 'Seychelles', 'Sierra Leone', 'Singapore', 'Slovakia',\n",
       "       'Slovenia', 'Solomon Islands', 'Somalia', 'South Africa',\n",
       "       'South Sudan', 'Spain', 'Sri Lanka', 'Sudan', 'Suriname', 'Sweden',\n",
       "       'Switzerland', 'Syrian Arab Republic', 'Tajikistan', 'Thailand',\n",
       "       'Togo', 'Tonga', 'Trinidad and Tobago', 'Tunisia', 'Turkey',\n",
       "       'Turkmenistan', 'Tuvalu', 'Uganda', 'Ukraine',\n",
       "       'United Arab Emirates',\n",
       "       'United Kingdom of Great Britain and Northern Ireland',\n",
       "       'United Republic of Tanzania', 'United States of America',\n",
       "       'Uruguay', 'Uzbekistan', 'Vanuatu', 'Viet Nam', 'Yemen', 'Zambia',\n",
       "       'Zimbabwe'], dtype=object)"
      ]
     },
     "execution_count": 44,
     "metadata": {},
     "output_type": "execute_result"
    }
   ],
   "source": [
    "MY_DF.Country.unique()"
   ]
  },
  {
   "cell_type": "markdown",
   "metadata": {},
   "source": [
    "Here, country names are converted to country codes."
   ]
  },
  {
   "cell_type": "code",
   "execution_count": 45,
   "metadata": {
    "colab": {},
    "colab_type": "code",
    "id": "RWyoApWOP3wf"
   },
   "outputs": [],
   "source": [
    "country_code1=[]\n",
    "for i in MY_DF[\"Country\"]:\n",
    "    country_code1.append(pc.country_name_to_country_alpha2(i, cn_name_format=\"default\"))\n"
   ]
  },
  {
   "cell_type": "code",
   "execution_count": 46,
   "metadata": {
    "colab": {},
    "colab_type": "code",
    "id": "6AxuIXKUP3wi",
    "outputId": "48dedf84-f654-4e8b-8fe1-0381e4b6e72b"
   },
   "outputs": [
    {
     "data": {
      "text/plain": [
       "10152"
      ]
     },
     "execution_count": 46,
     "metadata": {},
     "output_type": "execute_result"
    }
   ],
   "source": [
    "len(country_code1)"
   ]
  },
  {
   "cell_type": "markdown",
   "metadata": {},
   "source": [
    "Here, country codes are converted to continent codes\n"
   ]
  },
  {
   "cell_type": "code",
   "execution_count": 47,
   "metadata": {
    "colab": {},
    "colab_type": "code",
    "id": "pGFfI-ZVP3wl"
   },
   "outputs": [],
   "source": [
    "continent_code=[]\n",
    "for i in country_code1:\n",
    "    continent_code.append(pc.country_alpha2_to_continent_code(i))"
   ]
  },
  {
   "cell_type": "code",
   "execution_count": 48,
   "metadata": {
    "colab": {},
    "colab_type": "code",
    "id": "w7KikGmHP3wo",
    "outputId": "af3a832c-6064-4b98-ff4e-5bfe74189c88"
   },
   "outputs": [
    {
     "data": {
      "text/plain": [
       "10152"
      ]
     },
     "execution_count": 48,
     "metadata": {},
     "output_type": "execute_result"
    }
   ],
   "source": [
    "len(continent_code)"
   ]
  },
  {
   "cell_type": "code",
   "execution_count": 49,
   "metadata": {
    "colab": {},
    "colab_type": "code",
    "id": "x5oax-ivP3wq"
   },
   "outputs": [],
   "source": [
    "MY_DF[\"Continent\"]=continent_code ## creating column Called Continent with continent code"
   ]
  },
  {
   "cell_type": "code",
   "execution_count": 50,
   "metadata": {
    "colab": {},
    "colab_type": "code",
    "id": "VPM_KPw1P3ws",
    "outputId": "7fca3612-f881-490d-bf5a-78862288418a"
   },
   "outputs": [
    {
     "data": {
      "text/html": [
       "<div>\n",
       "<style scoped>\n",
       "    .dataframe tbody tr th:only-of-type {\n",
       "        vertical-align: middle;\n",
       "    }\n",
       "\n",
       "    .dataframe tbody tr th {\n",
       "        vertical-align: top;\n",
       "    }\n",
       "\n",
       "    .dataframe thead th {\n",
       "        text-align: right;\n",
       "    }\n",
       "</style>\n",
       "<table border=\"1\" class=\"dataframe\">\n",
       "  <thead>\n",
       "    <tr style=\"text-align: right;\">\n",
       "      <th></th>\n",
       "      <th>Country</th>\n",
       "      <th>HIV/AIDS</th>\n",
       "      <th>YEAR</th>\n",
       "      <th>Age_Group</th>\n",
       "      <th>Injuries</th>\n",
       "      <th>Diarrhoeal</th>\n",
       "      <th>Measles</th>\n",
       "      <th>Meningitis</th>\n",
       "      <th>Malaria</th>\n",
       "      <th>Resp_Inf</th>\n",
       "      <th>Prematurity</th>\n",
       "      <th>Birth_Trauma</th>\n",
       "      <th>NewBorn_Inf</th>\n",
       "      <th>Commu_Perinatal_Nutri</th>\n",
       "      <th>Congential_Anomalies</th>\n",
       "      <th>Non_Commu</th>\n",
       "      <th>TOTAL_Death</th>\n",
       "      <th>Continent</th>\n",
       "    </tr>\n",
       "  </thead>\n",
       "  <tbody>\n",
       "    <tr>\n",
       "      <th>0</th>\n",
       "      <td>Afghanistan</td>\n",
       "      <td>0</td>\n",
       "      <td>2017</td>\n",
       "      <td>0-4 Weeks</td>\n",
       "      <td>500</td>\n",
       "      <td>495</td>\n",
       "      <td>0</td>\n",
       "      <td>1468</td>\n",
       "      <td>0</td>\n",
       "      <td>3026</td>\n",
       "      <td>13753</td>\n",
       "      <td>11876</td>\n",
       "      <td>6573</td>\n",
       "      <td>2611</td>\n",
       "      <td>3667</td>\n",
       "      <td>26</td>\n",
       "      <td>43995</td>\n",
       "      <td>AS</td>\n",
       "    </tr>\n",
       "    <tr>\n",
       "      <th>1</th>\n",
       "      <td>Albania</td>\n",
       "      <td>0</td>\n",
       "      <td>2017</td>\n",
       "      <td>0-4 Weeks</td>\n",
       "      <td>3</td>\n",
       "      <td>0</td>\n",
       "      <td>0</td>\n",
       "      <td>4</td>\n",
       "      <td>0</td>\n",
       "      <td>14</td>\n",
       "      <td>85</td>\n",
       "      <td>25</td>\n",
       "      <td>8</td>\n",
       "      <td>12</td>\n",
       "      <td>55</td>\n",
       "      <td>0</td>\n",
       "      <td>206</td>\n",
       "      <td>EU</td>\n",
       "    </tr>\n",
       "    <tr>\n",
       "      <th>2</th>\n",
       "      <td>Algeria</td>\n",
       "      <td>0</td>\n",
       "      <td>2017</td>\n",
       "      <td>0-4 Weeks</td>\n",
       "      <td>206</td>\n",
       "      <td>28</td>\n",
       "      <td>0</td>\n",
       "      <td>44</td>\n",
       "      <td>0</td>\n",
       "      <td>721</td>\n",
       "      <td>4240</td>\n",
       "      <td>3075</td>\n",
       "      <td>2046</td>\n",
       "      <td>686</td>\n",
       "      <td>2557</td>\n",
       "      <td>38</td>\n",
       "      <td>13641</td>\n",
       "      <td>AF</td>\n",
       "    </tr>\n",
       "    <tr>\n",
       "      <th>3</th>\n",
       "      <td>Andorra</td>\n",
       "      <td>0</td>\n",
       "      <td>2017</td>\n",
       "      <td>0-4 Weeks</td>\n",
       "      <td>0</td>\n",
       "      <td>0</td>\n",
       "      <td>0</td>\n",
       "      <td>0</td>\n",
       "      <td>0</td>\n",
       "      <td>0</td>\n",
       "      <td>1</td>\n",
       "      <td>0</td>\n",
       "      <td>0</td>\n",
       "      <td>0</td>\n",
       "      <td>0</td>\n",
       "      <td>0</td>\n",
       "      <td>1</td>\n",
       "      <td>EU</td>\n",
       "    </tr>\n",
       "    <tr>\n",
       "      <th>4</th>\n",
       "      <td>Angola</td>\n",
       "      <td>27</td>\n",
       "      <td>2017</td>\n",
       "      <td>0-4 Weeks</td>\n",
       "      <td>399</td>\n",
       "      <td>177</td>\n",
       "      <td>0</td>\n",
       "      <td>416</td>\n",
       "      <td>0</td>\n",
       "      <td>2702</td>\n",
       "      <td>9809</td>\n",
       "      <td>11557</td>\n",
       "      <td>5468</td>\n",
       "      <td>1923</td>\n",
       "      <td>2981</td>\n",
       "      <td>25</td>\n",
       "      <td>35484</td>\n",
       "      <td>AF</td>\n",
       "    </tr>\n",
       "  </tbody>\n",
       "</table>\n",
       "</div>"
      ],
      "text/plain": [
       "       Country  HIV/AIDS  YEAR  Age_Group  Injuries  Diarrhoeal  Measles  \\\n",
       "0  Afghanistan         0  2017  0-4 Weeks       500         495        0   \n",
       "1      Albania         0  2017  0-4 Weeks         3           0        0   \n",
       "2      Algeria         0  2017  0-4 Weeks       206          28        0   \n",
       "3      Andorra         0  2017  0-4 Weeks         0           0        0   \n",
       "4       Angola        27  2017  0-4 Weeks       399         177        0   \n",
       "\n",
       "   Meningitis  Malaria  Resp_Inf  Prematurity  Birth_Trauma  NewBorn_Inf  \\\n",
       "0        1468        0      3026        13753         11876         6573   \n",
       "1           4        0        14           85            25            8   \n",
       "2          44        0       721         4240          3075         2046   \n",
       "3           0        0         0            1             0            0   \n",
       "4         416        0      2702         9809         11557         5468   \n",
       "\n",
       "   Commu_Perinatal_Nutri  Congential_Anomalies  Non_Commu  TOTAL_Death  \\\n",
       "0                   2611                  3667         26        43995   \n",
       "1                     12                    55          0          206   \n",
       "2                    686                  2557         38        13641   \n",
       "3                      0                     0          0            1   \n",
       "4                   1923                  2981         25        35484   \n",
       "\n",
       "  Continent  \n",
       "0        AS  \n",
       "1        EU  \n",
       "2        AF  \n",
       "3        EU  \n",
       "4        AF  "
      ]
     },
     "execution_count": 50,
     "metadata": {},
     "output_type": "execute_result"
    }
   ],
   "source": [
    "MY_DF.head()"
   ]
  },
  {
   "cell_type": "markdown",
   "metadata": {
    "colab_type": "text",
    "id": "4FGpDcG4P3wv"
   },
   "source": [
    "Applying grouby function on Continent and Disease columns."
   ]
  },
  {
   "cell_type": "code",
   "execution_count": 51,
   "metadata": {
    "colab": {},
    "colab_type": "code",
    "id": "xpIfeNlDP3ww"
   },
   "outputs": [],
   "source": [
    "Hyp=MY_DF.groupby(['Continent'])['HIV/AIDS','Diarrhoeal','Measles','Meningitis','Malaria','Resp_Inf','Prematurity','Birth_Trauma',\n",
    "               'NewBorn_Inf','Commu_Perinatal_Nutri','Congential_Anomalies','Non_Commu','Injuries'].mean().reset_index()"
   ]
  },
  {
   "cell_type": "code",
   "execution_count": 52,
   "metadata": {
    "colab": {},
    "colab_type": "code",
    "id": "rl_i7BUzP3wy",
    "outputId": "81fcae44-05d2-4daf-fc26-51f925bb1d72"
   },
   "outputs": [
    {
     "data": {
      "text/html": [
       "<div>\n",
       "<style scoped>\n",
       "    .dataframe tbody tr th:only-of-type {\n",
       "        vertical-align: middle;\n",
       "    }\n",
       "\n",
       "    .dataframe tbody tr th {\n",
       "        vertical-align: top;\n",
       "    }\n",
       "\n",
       "    .dataframe thead th {\n",
       "        text-align: right;\n",
       "    }\n",
       "</style>\n",
       "<table border=\"1\" class=\"dataframe\">\n",
       "  <thead>\n",
       "    <tr style=\"text-align: right;\">\n",
       "      <th></th>\n",
       "      <th>Continent</th>\n",
       "      <th>HIV/AIDS</th>\n",
       "      <th>Diarrhoeal</th>\n",
       "      <th>Measles</th>\n",
       "      <th>Meningitis</th>\n",
       "      <th>Malaria</th>\n",
       "      <th>Resp_Inf</th>\n",
       "      <th>Prematurity</th>\n",
       "      <th>Birth_Trauma</th>\n",
       "      <th>NewBorn_Inf</th>\n",
       "      <th>Commu_Perinatal_Nutri</th>\n",
       "      <th>Congential_Anomalies</th>\n",
       "      <th>Non_Commu</th>\n",
       "      <th>Injuries</th>\n",
       "    </tr>\n",
       "  </thead>\n",
       "  <tbody>\n",
       "    <tr>\n",
       "      <th>0</th>\n",
       "      <td>AF</td>\n",
       "      <td>1876.794582</td>\n",
       "      <td>4792.710219</td>\n",
       "      <td>1832.099451</td>\n",
       "      <td>1531.558642</td>\n",
       "      <td>5880.865226</td>\n",
       "      <td>7355.943416</td>\n",
       "      <td>4852.213992</td>\n",
       "      <td>4793.321331</td>\n",
       "      <td>2118.956790</td>\n",
       "      <td>3893.502743</td>\n",
       "      <td>2050.126200</td>\n",
       "      <td>1334.210905</td>\n",
       "      <td>1964.142661</td>\n",
       "    </tr>\n",
       "    <tr>\n",
       "      <th>1</th>\n",
       "      <td>AS</td>\n",
       "      <td>142.862374</td>\n",
       "      <td>5216.293771</td>\n",
       "      <td>1391.436869</td>\n",
       "      <td>1539.661195</td>\n",
       "      <td>88.497475</td>\n",
       "      <td>9145.410354</td>\n",
       "      <td>10407.784091</td>\n",
       "      <td>6905.026515</td>\n",
       "      <td>3518.675084</td>\n",
       "      <td>4345.683081</td>\n",
       "      <td>4259.265152</td>\n",
       "      <td>2219.729798</td>\n",
       "      <td>2959.990741</td>\n",
       "    </tr>\n",
       "    <tr>\n",
       "      <th>2</th>\n",
       "      <td>EU</td>\n",
       "      <td>6.565697</td>\n",
       "      <td>9.381834</td>\n",
       "      <td>0.482363</td>\n",
       "      <td>15.232804</td>\n",
       "      <td>0.006173</td>\n",
       "      <td>75.597884</td>\n",
       "      <td>217.586420</td>\n",
       "      <td>66.455026</td>\n",
       "      <td>27.284832</td>\n",
       "      <td>59.020723</td>\n",
       "      <td>245.769841</td>\n",
       "      <td>106.953704</td>\n",
       "      <td>66.996032</td>\n",
       "    </tr>\n",
       "    <tr>\n",
       "      <th>3</th>\n",
       "      <td>NA</td>\n",
       "      <td>36.742351</td>\n",
       "      <td>250.315620</td>\n",
       "      <td>0.009662</td>\n",
       "      <td>68.610306</td>\n",
       "      <td>1.270531</td>\n",
       "      <td>521.614332</td>\n",
       "      <td>816.983092</td>\n",
       "      <td>345.289050</td>\n",
       "      <td>224.257649</td>\n",
       "      <td>347.475845</td>\n",
       "      <td>744.294686</td>\n",
       "      <td>364.072464</td>\n",
       "      <td>388.114332</td>\n",
       "    </tr>\n",
       "    <tr>\n",
       "      <th>4</th>\n",
       "      <td>OC</td>\n",
       "      <td>10.437037</td>\n",
       "      <td>55.824691</td>\n",
       "      <td>15.143210</td>\n",
       "      <td>20.293827</td>\n",
       "      <td>78.676543</td>\n",
       "      <td>113.011111</td>\n",
       "      <td>115.954321</td>\n",
       "      <td>90.192593</td>\n",
       "      <td>38.795062</td>\n",
       "      <td>67.434568</td>\n",
       "      <td>68.550617</td>\n",
       "      <td>40.914815</td>\n",
       "      <td>44.269136</td>\n",
       "    </tr>\n",
       "    <tr>\n",
       "      <th>5</th>\n",
       "      <td>SA</td>\n",
       "      <td>31.450000</td>\n",
       "      <td>360.196296</td>\n",
       "      <td>0.003704</td>\n",
       "      <td>135.124074</td>\n",
       "      <td>3.462963</td>\n",
       "      <td>835.670370</td>\n",
       "      <td>1854.651852</td>\n",
       "      <td>706.422222</td>\n",
       "      <td>610.596296</td>\n",
       "      <td>973.035185</td>\n",
       "      <td>1695.805556</td>\n",
       "      <td>717.605556</td>\n",
       "      <td>500.651852</td>\n",
       "    </tr>\n",
       "  </tbody>\n",
       "</table>\n",
       "</div>"
      ],
      "text/plain": [
       "  Continent     HIV/AIDS   Diarrhoeal      Measles   Meningitis      Malaria  \\\n",
       "0        AF  1876.794582  4792.710219  1832.099451  1531.558642  5880.865226   \n",
       "1        AS   142.862374  5216.293771  1391.436869  1539.661195    88.497475   \n",
       "2        EU     6.565697     9.381834     0.482363    15.232804     0.006173   \n",
       "3        NA    36.742351   250.315620     0.009662    68.610306     1.270531   \n",
       "4        OC    10.437037    55.824691    15.143210    20.293827    78.676543   \n",
       "5        SA    31.450000   360.196296     0.003704   135.124074     3.462963   \n",
       "\n",
       "      Resp_Inf   Prematurity  Birth_Trauma  NewBorn_Inf  \\\n",
       "0  7355.943416   4852.213992   4793.321331  2118.956790   \n",
       "1  9145.410354  10407.784091   6905.026515  3518.675084   \n",
       "2    75.597884    217.586420     66.455026    27.284832   \n",
       "3   521.614332    816.983092    345.289050   224.257649   \n",
       "4   113.011111    115.954321     90.192593    38.795062   \n",
       "5   835.670370   1854.651852    706.422222   610.596296   \n",
       "\n",
       "   Commu_Perinatal_Nutri  Congential_Anomalies    Non_Commu     Injuries  \n",
       "0            3893.502743           2050.126200  1334.210905  1964.142661  \n",
       "1            4345.683081           4259.265152  2219.729798  2959.990741  \n",
       "2              59.020723            245.769841   106.953704    66.996032  \n",
       "3             347.475845            744.294686   364.072464   388.114332  \n",
       "4              67.434568             68.550617    40.914815    44.269136  \n",
       "5             973.035185           1695.805556   717.605556   500.651852  "
      ]
     },
     "execution_count": 52,
     "metadata": {},
     "output_type": "execute_result"
    }
   ],
   "source": [
    "Hyp"
   ]
  },
  {
   "cell_type": "code",
   "execution_count": 53,
   "metadata": {
    "colab": {},
    "colab_type": "code",
    "id": "H_gVmOpZP3w3"
   },
   "outputs": [],
   "source": [
    "X=Hyp.iloc[0,1:17]"
   ]
  },
  {
   "cell_type": "code",
   "execution_count": 54,
   "metadata": {
    "colab": {},
    "colab_type": "code",
    "id": "7HQDR5x9P3w6"
   },
   "outputs": [],
   "source": [
    "df = pd.DataFrame(X)"
   ]
  },
  {
   "cell_type": "code",
   "execution_count": 55,
   "metadata": {
    "colab": {},
    "colab_type": "code",
    "id": "aIJ_MeKfP3w9",
    "outputId": "90e16e63-3897-46e7-f086-a2d2a9e8bd07"
   },
   "outputs": [
    {
     "data": {
      "text/html": [
       "<div>\n",
       "<style scoped>\n",
       "    .dataframe tbody tr th:only-of-type {\n",
       "        vertical-align: middle;\n",
       "    }\n",
       "\n",
       "    .dataframe tbody tr th {\n",
       "        vertical-align: top;\n",
       "    }\n",
       "\n",
       "    .dataframe thead th {\n",
       "        text-align: right;\n",
       "    }\n",
       "</style>\n",
       "<table border=\"1\" class=\"dataframe\">\n",
       "  <thead>\n",
       "    <tr style=\"text-align: right;\">\n",
       "      <th></th>\n",
       "      <th>0</th>\n",
       "    </tr>\n",
       "  </thead>\n",
       "  <tbody>\n",
       "    <tr>\n",
       "      <th>HIV/AIDS</th>\n",
       "      <td>1876.79</td>\n",
       "    </tr>\n",
       "    <tr>\n",
       "      <th>Diarrhoeal</th>\n",
       "      <td>4792.71</td>\n",
       "    </tr>\n",
       "    <tr>\n",
       "      <th>Measles</th>\n",
       "      <td>1832.1</td>\n",
       "    </tr>\n",
       "    <tr>\n",
       "      <th>Meningitis</th>\n",
       "      <td>1531.56</td>\n",
       "    </tr>\n",
       "    <tr>\n",
       "      <th>Malaria</th>\n",
       "      <td>5880.87</td>\n",
       "    </tr>\n",
       "    <tr>\n",
       "      <th>Resp_Inf</th>\n",
       "      <td>7355.94</td>\n",
       "    </tr>\n",
       "    <tr>\n",
       "      <th>Prematurity</th>\n",
       "      <td>4852.21</td>\n",
       "    </tr>\n",
       "    <tr>\n",
       "      <th>Birth_Trauma</th>\n",
       "      <td>4793.32</td>\n",
       "    </tr>\n",
       "    <tr>\n",
       "      <th>NewBorn_Inf</th>\n",
       "      <td>2118.96</td>\n",
       "    </tr>\n",
       "    <tr>\n",
       "      <th>Commu_Perinatal_Nutri</th>\n",
       "      <td>3893.5</td>\n",
       "    </tr>\n",
       "    <tr>\n",
       "      <th>Congential_Anomalies</th>\n",
       "      <td>2050.13</td>\n",
       "    </tr>\n",
       "    <tr>\n",
       "      <th>Non_Commu</th>\n",
       "      <td>1334.21</td>\n",
       "    </tr>\n",
       "    <tr>\n",
       "      <th>Injuries</th>\n",
       "      <td>1964.14</td>\n",
       "    </tr>\n",
       "  </tbody>\n",
       "</table>\n",
       "</div>"
      ],
      "text/plain": [
       "                             0\n",
       "HIV/AIDS               1876.79\n",
       "Diarrhoeal             4792.71\n",
       "Measles                 1832.1\n",
       "Meningitis             1531.56\n",
       "Malaria                5880.87\n",
       "Resp_Inf               7355.94\n",
       "Prematurity            4852.21\n",
       "Birth_Trauma           4793.32\n",
       "NewBorn_Inf            2118.96\n",
       "Commu_Perinatal_Nutri   3893.5\n",
       "Congential_Anomalies   2050.13\n",
       "Non_Commu              1334.21\n",
       "Injuries               1964.14"
      ]
     },
     "execution_count": 55,
     "metadata": {},
     "output_type": "execute_result"
    }
   ],
   "source": [
    "df"
   ]
  },
  {
   "cell_type": "code",
   "execution_count": 56,
   "metadata": {
    "colab": {},
    "colab_type": "code",
    "id": "h2Vlb_hPP3xA",
    "outputId": "c7f659b0-3a2f-4d8d-d689-80d408f6a463"
   },
   "outputs": [
    {
     "data": {
      "image/png": "[encoded data removed]",
      "text/plain": [
       "<Figure size 7200x2880 with 1 Axes>"
      ]
     },
     "metadata": {
      "needs_background": "light"
     },
     "output_type": "display_data"
    }
   ],
   "source": [
    "fig, ax = plt.subplots(figsize=(100,40))\n",
    "_=df.plot(kind = 'bar',ax=ax)\n",
    "_=plt.xlabel('Cause of Death',fontsize=60)\n",
    "_=plt.ylabel('Total Death count',fontsize=60)\n",
    "_=plt.title('Plot showing total deaths caused by each disese in SA ',fontsize=75)\n",
    "_=plt.xticks(rotation='vertical',fontsize=60)\n",
    "_=plt.yticks(fontsize=60)"
   ]
  },
  {
   "cell_type": "markdown",
   "metadata": {
    "colab_type": "text",
    "id": "yrEuXObBP3xC"
   },
   "source": [
    "# HYPOTHESIS CONCLUSION:\n",
    "Respiratory Infections are the cause of highest number of deaths in African Continent. My hypothesis saying HIVAIDS is cause of highest number of deaths is wrong."
   ]
  },
  {
   "cell_type": "code",
   "execution_count": 57,
   "metadata": {
    "colab": {},
    "colab_type": "code",
    "id": "NTPjwVstP3xD"
   },
   "outputs": [],
   "source": [
    "SA=MY_DF.loc[MY_DF['Continent'] == 'SA'] ## taking all the rows with continent in variable SA."
   ]
  },
  {
   "cell_type": "code",
   "execution_count": 58,
   "metadata": {
    "colab": {},
    "colab_type": "code",
    "id": "GHc7LiWGP3xF",
    "outputId": "e0c789b0-8487-4d1b-8a3e-c86e6b910bb4",
    "scrolled": true
   },
   "outputs": [
    {
     "data": {
      "text/html": [
       "<div>\n",
       "<style scoped>\n",
       "    .dataframe tbody tr th:only-of-type {\n",
       "        vertical-align: middle;\n",
       "    }\n",
       "\n",
       "    .dataframe tbody tr th {\n",
       "        vertical-align: top;\n",
       "    }\n",
       "\n",
       "    .dataframe thead th {\n",
       "        text-align: right;\n",
       "    }\n",
       "</style>\n",
       "<table border=\"1\" class=\"dataframe\">\n",
       "  <thead>\n",
       "    <tr style=\"text-align: right;\">\n",
       "      <th></th>\n",
       "      <th>Country</th>\n",
       "      <th>HIV/AIDS</th>\n",
       "      <th>YEAR</th>\n",
       "      <th>Age_Group</th>\n",
       "      <th>Injuries</th>\n",
       "      <th>Diarrhoeal</th>\n",
       "      <th>Measles</th>\n",
       "      <th>Meningitis</th>\n",
       "      <th>Malaria</th>\n",
       "      <th>Resp_Inf</th>\n",
       "      <th>Prematurity</th>\n",
       "      <th>Birth_Trauma</th>\n",
       "      <th>NewBorn_Inf</th>\n",
       "      <th>Commu_Perinatal_Nutri</th>\n",
       "      <th>Congential_Anomalies</th>\n",
       "      <th>Non_Commu</th>\n",
       "      <th>TOTAL_Death</th>\n",
       "      <th>Continent</th>\n",
       "    </tr>\n",
       "  </thead>\n",
       "  <tbody>\n",
       "    <tr>\n",
       "      <th>6</th>\n",
       "      <td>Argentina</td>\n",
       "      <td>1</td>\n",
       "      <td>2017</td>\n",
       "      <td>0-4 Weeks</td>\n",
       "      <td>31</td>\n",
       "      <td>0</td>\n",
       "      <td>0</td>\n",
       "      <td>1</td>\n",
       "      <td>0</td>\n",
       "      <td>60</td>\n",
       "      <td>1992</td>\n",
       "      <td>322</td>\n",
       "      <td>422</td>\n",
       "      <td>351</td>\n",
       "      <td>1249</td>\n",
       "      <td>11</td>\n",
       "      <td>4440</td>\n",
       "      <td>SA</td>\n",
       "    </tr>\n",
       "    <tr>\n",
       "      <th>23</th>\n",
       "      <td>Brazil</td>\n",
       "      <td>1</td>\n",
       "      <td>2017</td>\n",
       "      <td>0-4 Weeks</td>\n",
       "      <td>182</td>\n",
       "      <td>0</td>\n",
       "      <td>0</td>\n",
       "      <td>7</td>\n",
       "      <td>0</td>\n",
       "      <td>446</td>\n",
       "      <td>7247</td>\n",
       "      <td>3696</td>\n",
       "      <td>3426</td>\n",
       "      <td>4550</td>\n",
       "      <td>5110</td>\n",
       "      <td>60</td>\n",
       "      <td>24725</td>\n",
       "      <td>SA</td>\n",
       "    </tr>\n",
       "    <tr>\n",
       "      <th>34</th>\n",
       "      <td>Chile</td>\n",
       "      <td>0</td>\n",
       "      <td>2017</td>\n",
       "      <td>0-4 Weeks</td>\n",
       "      <td>5</td>\n",
       "      <td>0</td>\n",
       "      <td>0</td>\n",
       "      <td>0</td>\n",
       "      <td>0</td>\n",
       "      <td>16</td>\n",
       "      <td>454</td>\n",
       "      <td>80</td>\n",
       "      <td>62</td>\n",
       "      <td>99</td>\n",
       "      <td>469</td>\n",
       "      <td>11</td>\n",
       "      <td>1196</td>\n",
       "      <td>SA</td>\n",
       "    </tr>\n",
       "    <tr>\n",
       "      <th>36</th>\n",
       "      <td>Colombia</td>\n",
       "      <td>0</td>\n",
       "      <td>2017</td>\n",
       "      <td>0-4 Weeks</td>\n",
       "      <td>40</td>\n",
       "      <td>0</td>\n",
       "      <td>0</td>\n",
       "      <td>3</td>\n",
       "      <td>0</td>\n",
       "      <td>227</td>\n",
       "      <td>1997</td>\n",
       "      <td>511</td>\n",
       "      <td>894</td>\n",
       "      <td>563</td>\n",
       "      <td>1596</td>\n",
       "      <td>19</td>\n",
       "      <td>5850</td>\n",
       "      <td>SA</td>\n",
       "    </tr>\n",
       "    <tr>\n",
       "      <th>52</th>\n",
       "      <td>Ecuador</td>\n",
       "      <td>0</td>\n",
       "      <td>2017</td>\n",
       "      <td>0-4 Weeks</td>\n",
       "      <td>35</td>\n",
       "      <td>0</td>\n",
       "      <td>0</td>\n",
       "      <td>1</td>\n",
       "      <td>0</td>\n",
       "      <td>74</td>\n",
       "      <td>1045</td>\n",
       "      <td>273</td>\n",
       "      <td>221</td>\n",
       "      <td>191</td>\n",
       "      <td>618</td>\n",
       "      <td>6</td>\n",
       "      <td>2464</td>\n",
       "      <td>SA</td>\n",
       "    </tr>\n",
       "  </tbody>\n",
       "</table>\n",
       "</div>"
      ],
      "text/plain": [
       "      Country  HIV/AIDS  YEAR  Age_Group  Injuries  Diarrhoeal  Measles  \\\n",
       "6   Argentina         1  2017  0-4 Weeks        31           0        0   \n",
       "23     Brazil         1  2017  0-4 Weeks       182           0        0   \n",
       "34      Chile         0  2017  0-4 Weeks         5           0        0   \n",
       "36   Colombia         0  2017  0-4 Weeks        40           0        0   \n",
       "52    Ecuador         0  2017  0-4 Weeks        35           0        0   \n",
       "\n",
       "    Meningitis  Malaria  Resp_Inf  Prematurity  Birth_Trauma  NewBorn_Inf  \\\n",
       "6            1        0        60         1992           322          422   \n",
       "23           7        0       446         7247          3696         3426   \n",
       "34           0        0        16          454            80           62   \n",
       "36           3        0       227         1997           511          894   \n",
       "52           1        0        74         1045           273          221   \n",
       "\n",
       "    Commu_Perinatal_Nutri  Congential_Anomalies  Non_Commu  TOTAL_Death  \\\n",
       "6                     351                  1249         11         4440   \n",
       "23                   4550                  5110         60        24725   \n",
       "34                     99                   469         11         1196   \n",
       "36                    563                  1596         19         5850   \n",
       "52                    191                   618          6         2464   \n",
       "\n",
       "   Continent  \n",
       "6         SA  \n",
       "23        SA  \n",
       "34        SA  \n",
       "36        SA  \n",
       "52        SA  "
      ]
     },
     "execution_count": 58,
     "metadata": {},
     "output_type": "execute_result"
    }
   ],
   "source": [
    "SA.head()"
   ]
  },
  {
   "cell_type": "markdown",
   "metadata": {},
   "source": [
    "Grouby function is applied to SA dataset on country and disease columns to know which country in SA is more affected.\n"
   ]
  },
  {
   "cell_type": "code",
   "execution_count": 59,
   "metadata": {
    "colab": {},
    "colab_type": "code",
    "id": "tzNanBjSP3xH"
   },
   "outputs": [],
   "source": [
    "SA_gby=SA.groupby(['Country'])['HIV/AIDS','Diarrhoeal','Measles','Meningitis','Malaria','Resp_Inf','Prematurity','Birth_Trauma',\n",
    "               'NewBorn_Inf','Commu_Perinatal_Nutri','Congential_Anomalies','Non_Commu','Injuries','TOTAL_Death'].mean().reset_index()"
   ]
  },
  {
   "cell_type": "code",
   "execution_count": 60,
   "metadata": {
    "colab": {},
    "colab_type": "code",
    "id": "1zN-jI9fP3xK",
    "outputId": "d16c931a-a131-4504-a4eb-b6375be7d0eb"
   },
   "outputs": [
    {
     "data": {
      "text/html": [
       "<div>\n",
       "<style scoped>\n",
       "    .dataframe tbody tr th:only-of-type {\n",
       "        vertical-align: middle;\n",
       "    }\n",
       "\n",
       "    .dataframe tbody tr th {\n",
       "        vertical-align: top;\n",
       "    }\n",
       "\n",
       "    .dataframe thead th {\n",
       "        text-align: right;\n",
       "    }\n",
       "</style>\n",
       "<table border=\"1\" class=\"dataframe\">\n",
       "  <thead>\n",
       "    <tr style=\"text-align: right;\">\n",
       "      <th></th>\n",
       "      <th>Country</th>\n",
       "      <th>HIV/AIDS</th>\n",
       "      <th>Diarrhoeal</th>\n",
       "      <th>Measles</th>\n",
       "      <th>Meningitis</th>\n",
       "      <th>Malaria</th>\n",
       "      <th>Resp_Inf</th>\n",
       "      <th>Prematurity</th>\n",
       "      <th>Birth_Trauma</th>\n",
       "      <th>NewBorn_Inf</th>\n",
       "      <th>Commu_Perinatal_Nutri</th>\n",
       "      <th>Congential_Anomalies</th>\n",
       "      <th>Non_Commu</th>\n",
       "      <th>Injuries</th>\n",
       "      <th>TOTAL_Death</th>\n",
       "    </tr>\n",
       "  </thead>\n",
       "  <tbody>\n",
       "    <tr>\n",
       "      <th>0</th>\n",
       "      <td>Argentina</td>\n",
       "      <td>14.944444</td>\n",
       "      <td>117.481481</td>\n",
       "      <td>0.000000</td>\n",
       "      <td>103.055556</td>\n",
       "      <td>0.000000</td>\n",
       "      <td>550.407407</td>\n",
       "      <td>2021.685185</td>\n",
       "      <td>359.351852</td>\n",
       "      <td>439.370370</td>\n",
       "      <td>492.574074</td>\n",
       "      <td>1962.370370</td>\n",
       "      <td>771.796296</td>\n",
       "      <td>524.796296</td>\n",
       "      <td>7357.833333</td>\n",
       "    </tr>\n",
       "    <tr>\n",
       "      <th>1</th>\n",
       "      <td>Brazil</td>\n",
       "      <td>126.592593</td>\n",
       "      <td>2200.888889</td>\n",
       "      <td>0.037037</td>\n",
       "      <td>790.203704</td>\n",
       "      <td>12.518519</td>\n",
       "      <td>4402.055556</td>\n",
       "      <td>10234.537037</td>\n",
       "      <td>4590.740741</td>\n",
       "      <td>3987.444444</td>\n",
       "      <td>5996.592593</td>\n",
       "      <td>8734.574074</td>\n",
       "      <td>3951.555556</td>\n",
       "      <td>2367.388889</td>\n",
       "      <td>47395.129630</td>\n",
       "    </tr>\n",
       "    <tr>\n",
       "      <th>2</th>\n",
       "      <td>Chile</td>\n",
       "      <td>1.925926</td>\n",
       "      <td>6.296296</td>\n",
       "      <td>0.000000</td>\n",
       "      <td>21.981481</td>\n",
       "      <td>0.000000</td>\n",
       "      <td>84.629630</td>\n",
       "      <td>379.629630</td>\n",
       "      <td>66.611111</td>\n",
       "      <td>44.555556</td>\n",
       "      <td>80.185185</td>\n",
       "      <td>547.129630</td>\n",
       "      <td>144.388889</td>\n",
       "      <td>97.185185</td>\n",
       "      <td>1474.518519</td>\n",
       "    </tr>\n",
       "    <tr>\n",
       "      <th>3</th>\n",
       "      <td>Colombia</td>\n",
       "      <td>24.074074</td>\n",
       "      <td>391.222222</td>\n",
       "      <td>0.000000</td>\n",
       "      <td>160.425926</td>\n",
       "      <td>9.222222</td>\n",
       "      <td>1105.666667</td>\n",
       "      <td>2249.018519</td>\n",
       "      <td>741.333333</td>\n",
       "      <td>743.185185</td>\n",
       "      <td>1246.240741</td>\n",
       "      <td>2234.500000</td>\n",
       "      <td>884.296296</td>\n",
       "      <td>708.666667</td>\n",
       "      <td>10497.851852</td>\n",
       "    </tr>\n",
       "    <tr>\n",
       "      <th>4</th>\n",
       "      <td>Ecuador</td>\n",
       "      <td>21.444444</td>\n",
       "      <td>82.777778</td>\n",
       "      <td>0.000000</td>\n",
       "      <td>38.129630</td>\n",
       "      <td>2.777778</td>\n",
       "      <td>579.055556</td>\n",
       "      <td>1046.203704</td>\n",
       "      <td>271.240741</td>\n",
       "      <td>194.000000</td>\n",
       "      <td>338.962963</td>\n",
       "      <td>1008.574074</td>\n",
       "      <td>369.407407</td>\n",
       "      <td>375.296296</td>\n",
       "      <td>4327.870370</td>\n",
       "    </tr>\n",
       "    <tr>\n",
       "      <th>5</th>\n",
       "      <td>Guyana</td>\n",
       "      <td>11.222222</td>\n",
       "      <td>32.185185</td>\n",
       "      <td>0.000000</td>\n",
       "      <td>5.518519</td>\n",
       "      <td>8.629630</td>\n",
       "      <td>35.111111</td>\n",
       "      <td>103.203704</td>\n",
       "      <td>57.129630</td>\n",
       "      <td>40.296296</td>\n",
       "      <td>41.851852</td>\n",
       "      <td>50.870370</td>\n",
       "      <td>24.777778</td>\n",
       "      <td>28.481481</td>\n",
       "      <td>439.277778</td>\n",
       "    </tr>\n",
       "    <tr>\n",
       "      <th>6</th>\n",
       "      <td>Paraguay</td>\n",
       "      <td>19.333333</td>\n",
       "      <td>160.407407</td>\n",
       "      <td>0.000000</td>\n",
       "      <td>40.518519</td>\n",
       "      <td>0.000000</td>\n",
       "      <td>330.537037</td>\n",
       "      <td>578.425926</td>\n",
       "      <td>197.574074</td>\n",
       "      <td>167.925926</td>\n",
       "      <td>241.833333</td>\n",
       "      <td>465.314815</td>\n",
       "      <td>178.592593</td>\n",
       "      <td>157.092593</td>\n",
       "      <td>2537.555556</td>\n",
       "    </tr>\n",
       "    <tr>\n",
       "      <th>7</th>\n",
       "      <td>Peru</td>\n",
       "      <td>89.333333</td>\n",
       "      <td>598.925926</td>\n",
       "      <td>0.000000</td>\n",
       "      <td>178.740741</td>\n",
       "      <td>0.740741</td>\n",
       "      <td>1220.481481</td>\n",
       "      <td>1805.648148</td>\n",
       "      <td>734.185185</td>\n",
       "      <td>449.222222</td>\n",
       "      <td>1255.462963</td>\n",
       "      <td>1801.240741</td>\n",
       "      <td>785.314815</td>\n",
       "      <td>695.574074</td>\n",
       "      <td>9614.870370</td>\n",
       "    </tr>\n",
       "    <tr>\n",
       "      <th>8</th>\n",
       "      <td>Suriname</td>\n",
       "      <td>4.777778</td>\n",
       "      <td>4.222222</td>\n",
       "      <td>0.000000</td>\n",
       "      <td>3.666667</td>\n",
       "      <td>0.740741</td>\n",
       "      <td>12.851852</td>\n",
       "      <td>44.037037</td>\n",
       "      <td>20.925926</td>\n",
       "      <td>14.629630</td>\n",
       "      <td>12.814815</td>\n",
       "      <td>28.018519</td>\n",
       "      <td>21.185185</td>\n",
       "      <td>15.870370</td>\n",
       "      <td>183.740741</td>\n",
       "    </tr>\n",
       "    <tr>\n",
       "      <th>9</th>\n",
       "      <td>Uruguay</td>\n",
       "      <td>0.851852</td>\n",
       "      <td>7.555556</td>\n",
       "      <td>0.000000</td>\n",
       "      <td>9.000000</td>\n",
       "      <td>0.000000</td>\n",
       "      <td>35.907407</td>\n",
       "      <td>84.129630</td>\n",
       "      <td>25.129630</td>\n",
       "      <td>25.333333</td>\n",
       "      <td>23.833333</td>\n",
       "      <td>125.462963</td>\n",
       "      <td>44.740741</td>\n",
       "      <td>36.166667</td>\n",
       "      <td>418.111111</td>\n",
       "    </tr>\n",
       "  </tbody>\n",
       "</table>\n",
       "</div>"
      ],
      "text/plain": [
       "     Country    HIV/AIDS   Diarrhoeal   Measles  Meningitis    Malaria  \\\n",
       "0  Argentina   14.944444   117.481481  0.000000  103.055556   0.000000   \n",
       "1     Brazil  126.592593  2200.888889  0.037037  790.203704  12.518519   \n",
       "2      Chile    1.925926     6.296296  0.000000   21.981481   0.000000   \n",
       "3   Colombia   24.074074   391.222222  0.000000  160.425926   9.222222   \n",
       "4    Ecuador   21.444444    82.777778  0.000000   38.129630   2.777778   \n",
       "5     Guyana   11.222222    32.185185  0.000000    5.518519   8.629630   \n",
       "6   Paraguay   19.333333   160.407407  0.000000   40.518519   0.000000   \n",
       "7       Peru   89.333333   598.925926  0.000000  178.740741   0.740741   \n",
       "8   Suriname    4.777778     4.222222  0.000000    3.666667   0.740741   \n",
       "9    Uruguay    0.851852     7.555556  0.000000    9.000000   0.000000   \n",
       "\n",
       "      Resp_Inf   Prematurity  Birth_Trauma  NewBorn_Inf  \\\n",
       "0   550.407407   2021.685185    359.351852   439.370370   \n",
       "1  4402.055556  10234.537037   4590.740741  3987.444444   \n",
       "2    84.629630    379.629630     66.611111    44.555556   \n",
       "3  1105.666667   2249.018519    741.333333   743.185185   \n",
       "4   579.055556   1046.203704    271.240741   194.000000   \n",
       "5    35.111111    103.203704     57.129630    40.296296   \n",
       "6   330.537037    578.425926    197.574074   167.925926   \n",
       "7  1220.481481   1805.648148    734.185185   449.222222   \n",
       "8    12.851852     44.037037     20.925926    14.629630   \n",
       "9    35.907407     84.129630     25.129630    25.333333   \n",
       "\n",
       "   Commu_Perinatal_Nutri  Congential_Anomalies    Non_Commu     Injuries  \\\n",
       "0             492.574074           1962.370370   771.796296   524.796296   \n",
       "1            5996.592593           8734.574074  3951.555556  2367.388889   \n",
       "2              80.185185            547.129630   144.388889    97.185185   \n",
       "3            1246.240741           2234.500000   884.296296   708.666667   \n",
       "4             338.962963           1008.574074   369.407407   375.296296   \n",
       "5              41.851852             50.870370    24.777778    28.481481   \n",
       "6             241.833333            465.314815   178.592593   157.092593   \n",
       "7            1255.462963           1801.240741   785.314815   695.574074   \n",
       "8              12.814815             28.018519    21.185185    15.870370   \n",
       "9              23.833333            125.462963    44.740741    36.166667   \n",
       "\n",
       "    TOTAL_Death  \n",
       "0   7357.833333  \n",
       "1  47395.129630  \n",
       "2   1474.518519  \n",
       "3  10497.851852  \n",
       "4   4327.870370  \n",
       "5    439.277778  \n",
       "6   2537.555556  \n",
       "7   9614.870370  \n",
       "8    183.740741  \n",
       "9    418.111111  "
      ]
     },
     "execution_count": 60,
     "metadata": {},
     "output_type": "execute_result"
    }
   ],
   "source": [
    "SA_gby"
   ]
  },
  {
   "cell_type": "markdown",
   "metadata": {
    "colab_type": "text",
    "id": "I_5DV7W4P3xP"
   },
   "source": [
    "Using plotly library to plot deaths in each country on worldmap. Using pyplot I can view name of the country and total deaths as you point on the plot."
   ]
  },
  {
   "cell_type": "code",
   "execution_count": 61,
   "metadata": {
    "colab": {},
    "colab_type": "code",
    "id": "1A7pFpToP3xP",
    "outputId": "c99868ca-222e-4e5d-a860-b117e254c8e2"
   },
   "outputs": [
    {
     "data": {
      "text/html": [
       "        <script type=\"text/javascript\">\n",
       "        window.PlotlyConfig = {MathJaxConfig: 'local'};\n",
       "        if (window.MathJax) {MathJax.Hub.Config({SVG: {font: \"STIX-Web\"}});}\n",
       "        if (typeof require !== 'undefined') {\n",
       "        require.undef(\"plotly\");\n",
       "        requirejs.config({\n",
       "            paths: {\n",
       "                'plotly': ['https://cdn.plot.ly/plotly-latest.min']\n",
       "            }\n",
       "        });\n",
       "        require(['plotly'], function(Plotly) {\n",
       "            window._Plotly = Plotly;\n",
       "        });\n",
       "        }\n",
       "        </script>\n",
       "        "
      ]
     },
     "metadata": {},
     "output_type": "display_data"
    }
   ],
   "source": [
    "from plotly.offline import download_plotlyjs, init_notebook_mode, plot, iplot\n",
    "import plotly as py\n",
    "import plotly.graph_objs as go\n",
    "init_notebook_mode(connected=True)\n",
    "from plotly import tools"
   ]
  },
  {
   "cell_type": "markdown",
   "metadata": {},
   "source": [
    "Here, groupby function is used on country and all disease columns, so that I get number of deaths in each country.\n"
   ]
  },
  {
   "cell_type": "code",
   "execution_count": 62,
   "metadata": {
    "colab": {},
    "colab_type": "code",
    "id": "yqaKaFULP3xR"
   },
   "outputs": [],
   "source": [
    "Hyp10=MY_DF.groupby(['Country'])['HIV/AIDS','Diarrhoeal','Measles','Meningitis','Malaria','Resp_Inf','Prematurity','Birth_Trauma',\n",
    "               'NewBorn_Inf','Commu_Perinatal_Nutri','Congential_Anomalies','Non_Commu','Injuries'].mean().reset_index()"
   ]
  },
  {
   "cell_type": "code",
   "execution_count": 63,
   "metadata": {
    "colab": {},
    "colab_type": "code",
    "id": "vcVShiGLP3xT",
    "outputId": "308c5d91-cc4e-4306-ffff-d7c12ea6eca2"
   },
   "outputs": [
    {
     "data": {
      "text/plain": [
       "(188, 14)"
      ]
     },
     "execution_count": 63,
     "metadata": {},
     "output_type": "execute_result"
    }
   ],
   "source": [
    "Hyp10.shape"
   ]
  },
  {
   "cell_type": "code",
   "execution_count": 64,
   "metadata": {
    "colab": {},
    "colab_type": "code",
    "id": "anotdHSyP3xV",
    "outputId": "9f5f5752-7ed2-4c7e-c901-def8eb5f0d97"
   },
   "outputs": [
    {
     "data": {
      "application/vnd.plotly.v1+json": {
       "config": {
        "linkText": "Export to plot.ly",
        "plotlyServerURL": "https://plot.ly",
        "showLink": false
       },
       "data": [
        {
         "autocolorscale": true,
         "colorbar": {
          "title": {
           "text": "TotalDeath"
          }
         },
         "locationmode": "country names",
         "locations": [
          "Afghanistan",
          "Albania",
          "Algeria",
          "Andorra",
          "Angola",
          "Antigua and Barbuda",
          "Argentina",
          "Armenia",
          "Australia",
          "Austria",
          "Azerbaijan",
          "Bahamas",
          "Bahrain",
          "Bangladesh",
          "Barbados",
          "Belarus",
          "Belgium",
          "Belize",
          "Benin",
          "Bhutan",
          "Bosnia and Herzegovina",
          "Botswana",
          "Brazil",
          "Brunei Darussalam",
          "Bulgaria",
          "Burkina Faso",
          "Burundi",
          "Cabo Verde",
          "Cambodia",
          "Cameroon",
          "Canada",
          "Central African Republic",
          "Chad",
          "Chile",
          "China",
          "Colombia",
          "Comoros",
          "Congo",
          "Cook Islands",
          "Costa Rica",
          "Croatia",
          "Cuba",
          "Cyprus",
          "Czechia",
          "Côte d'Ivoire",
          "Democratic People's Republic of Korea",
          "Democratic Republic of the Congo",
          "Denmark",
          "Djibouti",
          "Dominica",
          "Dominican Republic",
          "Ecuador",
          "Egypt",
          "El Salvador",
          "Equatorial Guinea",
          "Eritrea",
          "Estonia",
          "Eswatini",
          "Ethiopia",
          "Fiji",
          "Finland",
          "France",
          "Gabon",
          "Gambia",
          "Georgia",
          "Germany",
          "Ghana",
          "Greece",
          "Grenada",
          "Guatemala",
          "Guinea",
          "Guinea-Bissau",
          "Guyana",
          "Haiti",
          "Honduras",
          "Hungary",
          "Iceland",
          "India",
          "Indonesia",
          "Iraq",
          "Ireland",
          "Israel",
          "Italy",
          "Jamaica",
          "Japan",
          "Jordan",
          "Kazakhstan",
          "Kenya",
          "Kiribati",
          "Kuwait",
          "Kyrgyzstan",
          "Lao People's Democratic Republic",
          "Latvia",
          "Lebanon",
          "Lesotho",
          "Liberia",
          "Libya",
          "Lithuania",
          "Luxembourg",
          "Madagascar",
          "Malawi",
          "Malaysia",
          "Maldives",
          "Mali",
          "Malta",
          "Marshall Islands",
          "Mauritania",
          "Mauritius",
          "Mexico",
          "Monaco",
          "Mongolia",
          "Montenegro",
          "Morocco",
          "Mozambique",
          "Myanmar",
          "Namibia",
          "Nauru",
          "Nepal",
          "Netherlands",
          "New Zealand",
          "Nicaragua",
          "Niger",
          "Nigeria",
          "Niue",
          "Norway",
          "Oman",
          "Pakistan",
          "Palau",
          "Panama",
          "Papua New Guinea",
          "Paraguay",
          "Peru",
          "Philippines",
          "Poland",
          "Portugal",
          "Qatar",
          "Republic of Moldova",
          "Republic of North Macedonia",
          "Romania",
          "Russian Federation",
          "Rwanda",
          "Saint Kitts and Nevis",
          "Saint Lucia",
          "Saint Vincent and the Grenadines",
          "Samoa",
          "San Marino",
          "Sao Tome and Principe",
          "Saudi Arabia",
          "Senegal",
          "Serbia",
          "Seychelles",
          "Sierra Leone",
          "Singapore",
          "Slovakia",
          "Slovenia",
          "Solomon Islands",
          "Somalia",
          "South Africa",
          "South Sudan",
          "Spain",
          "Sri Lanka",
          "Sudan",
          "Suriname",
          "Sweden",
          "Switzerland",
          "Syrian Arab Republic",
          "Tajikistan",
          "Thailand",
          "Togo",
          "Tonga",
          "Trinidad and Tobago",
          "Tunisia",
          "Turkey",
          "Turkmenistan",
          "Tuvalu",
          "Uganda",
          "Ukraine",
          "United Arab Emirates",
          "United Kingdom of Great Britain and Northern Ireland",
          "United Republic of Tanzania",
          "United States of America",
          "Uruguay",
          "Uzbekistan",
          "Vanuatu",
          "Viet Nam",
          "Yemen",
          "Zambia",
          "Zimbabwe"
         ],
         "marker": {
          "line": {
           "color": "rgb(255,255,255)",
           "width": 2
          }
         },
         "type": "choropleth",
         "z": [
          12678.685185185184,
          63.351851851851855,
          2127.314814814815,
          0,
          17672.87037037037,
          0.5555555555555556,
          550.4074074074074,
          87.07407407407408,
          27.425925925925927,
          4.12962962962963,
          730.7037037037037,
          6.981481481481482,
          3.5,
          23495.037037037036,
          1.0555555555555556,
          47.31481481481482,
          8.87037037037037,
          9.666666666666666,
          3892.796296296296,
          96.05555555555556,
          14.962962962962964,
          162.5,
          4402.055555555556,
          2.5555555555555554,
          107.9074074074074,
          5701.777777777777,
          3884.8888888888887,
          27.40740740740741,
          2618.777777777778,
          9001.666666666666,
          23.77777777777778,
          2163.296296296296,
          11524.037037037036,
          84.62962962962963,
          33850.09259259259,
          1105.6666666666667,
          259.75925925925924,
          1095.648148148148,
          0.2962962962962963,
          28.5,
          6.111111111111111,
          59.611111111111114,
          0.5185185185185185,
          15.018518518518519,
          8068.648148148148,
          1420.148148148148,
          27134.62962962963,
          2.9814814814814814,
          189.72222222222223,
          0.6111111111111112,
          607.8518518518518,
          579.0555555555555,
          6454.148148148148,
          279.48148148148147,
          340.48148148148147,
          1187.6666666666667,
          2.574074074074074,
          366.01851851851853,
          36784.81481481482,
          40.44444444444444,
          2.888888888888889,
          33.27777777777778,
          295.1111111111111,
          597.7962962962963,
          93.72222222222223,
          42.666666666666664,
          4819.537037037037,
          15.203703703703704,
          1.2407407407407407,
          1989.4259259259259,
          5066.666666666667,
          849.6296296296297,
          35.111111111111114,
          3454.777777777778,
          471.2962962962963,
          22.796296296296298,
          0,
          201883.0185185185,
          20978.88888888889,
          4165.981481481482,
          4.592592592592593,
          8.407407407407407,
          21.925925925925927,
          22.90740740740741,
          165.55555555555554,
          278.68518518518516,
          769,
          9620.518518518518,
          22.703703703703702,
          20.87037037037037,
          708.7592592592592,
          2086.222222222222,
          6.833333333333333,
          43.18518518518518,
          602.1296296296297,
          1713.2962962962963,
          162.33333333333334,
          10.74074074074074,
          0.1111111111111111,
          7203,
          4805.592592592592,
          178.3148148148148,
          11.296296296296296,
          10508.407407407407,
          0.25925925925925924,
          7.648148148148148,
          1488.2962962962963,
          13.222222222222221,
          3854.3518518518517,
          0,
          207.40740740740742,
          2.425925925925926,
          2212.3333333333335,
          9376.12962962963,
          9685.166666666666,
          386.462962962963,
          0.6666666666666666,
          4337.37037037037,
          11.685185185185185,
          15.61111111111111,
          433.01851851851853,
          13022.074074074075,
          98540.31481481482,
          0,
          3.037037037037037,
          41.388888888888886,
          52794.2962962963,
          0.2962962962962963,
          118.66666666666667,
          1497.8703703703704,
          330.537037037037,
          1220.4814814814815,
          10063.314814814816,
          75.87037037037037,
          9.87037037037037,
          5.111111111111111,
          131.0185185185185,
          13.87037037037037,
          619.9629629629629,
          1254.7592592592594,
          3559.537037037037,
          0.24074074074074073,
          1.8703703703703705,
          1.0740740740740742,
          7.12962962962963,
          0,
          34.629629629629626,
          410.55555555555554,
          4266.055555555556,
          28.48148148148148,
          1.0185185185185186,
          3773.037037037037,
          12.555555555555555,
          30.037037037037038,
          1.0740740740740742,
          49.72222222222222,
          11630.611111111111,
          6239.018518518518,
          5663.666666666667,
          26.203703703703702,
          271.27777777777777,
          12330.796296296296,
          12.851851851851851,
          7.074074074074074,
          3.8518518518518516,
          703.5925925925926,
          1424.2037037037037,
          877.5555555555555,
          1954.7592592592594,
          3.9074074074074074,
          27.037037037037038,
          277.6666666666667,
          1081.9444444444443,
          948.4629629629629,
          0.7962962962962963,
          12487.25925925926,
          416.77777777777777,
          21.703703703703702,
          104.5925925925926,
          16340.37037037037,
          603.1296296296297,
          35.907407407407405,
          2634.962962962963,
          20.64814814814815,
          3768.8703703703704,
          6733.259259259259,
          5571.740740740741,
          3767.8333333333335
         ]
        }
       ],
       "layout": {
        "template": {
         "data": {
          "bar": [
           {
            "error_x": {
             "color": "#2a3f5f"
            },
            "error_y": {
             "color": "#2a3f5f"
            },
            "marker": {
             "line": {
              "color": "#E5ECF6",
              "width": 0.5
             }
            },
            "type": "bar"
           }
          ],
          "barpolar": [
           {
            "marker": {
             "line": {
              "color": "#E5ECF6",
              "width": 0.5
             }
            },
            "type": "barpolar"
           }
          ],
          "carpet": [
           {
            "aaxis": {
             "endlinecolor": "#2a3f5f",
             "gridcolor": "white",
             "linecolor": "white",
             "minorgridcolor": "white",
             "startlinecolor": "#2a3f5f"
            },
            "baxis": {
             "endlinecolor": "#2a3f5f",
             "gridcolor": "white",
             "linecolor": "white",
             "minorgridcolor": "white",
             "startlinecolor": "#2a3f5f"
            },
            "type": "carpet"
           }
          ],
          "choropleth": [
           {
            "colorbar": {
             "outlinewidth": 0,
             "ticks": ""
            },
            "type": "choropleth"
           }
          ],
          "contour": [
           {
            "colorbar": {
             "outlinewidth": 0,
             "ticks": ""
            },
            "colorscale": [
             [
              0,
              "#0d0887"
             ],
             [
              0.1111111111111111,
              "#46039f"
             ],
             [
              0.2222222222222222,
              "#7201a8"
             ],
             [
              0.3333333333333333,
              "#9c179e"
             ],
             [
              0.4444444444444444,
              "#bd3786"
             ],
             [
              0.5555555555555556,
              "#d8576b"
             ],
             [
              0.6666666666666666,
              "#ed7953"
             ],
             [
              0.7777777777777778,
              "#fb9f3a"
             ],
             [
              0.8888888888888888,
              "#fdca26"
             ],
             [
              1,
              "#f0f921"
             ]
            ],
            "type": "contour"
           }
          ],
          "contourcarpet": [
           {
            "colorbar": {
             "outlinewidth": 0,
             "ticks": ""
            },
            "type": "contourcarpet"
           }
          ],
          "heatmap": [
           {
            "colorbar": {
             "outlinewidth": 0,
             "ticks": ""
            },
            "colorscale": [
             [
              0,
              "#0d0887"
             ],
             [
              0.1111111111111111,
              "#46039f"
             ],
             [
              0.2222222222222222,
              "#7201a8"
             ],
             [
              0.3333333333333333,
              "#9c179e"
             ],
             [
              0.4444444444444444,
              "#bd3786"
             ],
             [
              0.5555555555555556,
              "#d8576b"
             ],
             [
              0.6666666666666666,
              "#ed7953"
             ],
             [
              0.7777777777777778,
              "#fb9f3a"
             ],
             [
              0.8888888888888888,
              "#fdca26"
             ],
             [
              1,
              "#f0f921"
             ]
            ],
            "type": "heatmap"
           }
          ],
          "heatmapgl": [
           {
            "colorbar": {
             "outlinewidth": 0,
             "ticks": ""
            },
            "colorscale": [
             [
              0,
              "#0d0887"
             ],
             [
              0.1111111111111111,
              "#46039f"
             ],
             [
              0.2222222222222222,
              "#7201a8"
             ],
             [
              0.3333333333333333,
              "#9c179e"
             ],
             [
              0.4444444444444444,
              "#bd3786"
             ],
             [
              0.5555555555555556,
              "#d8576b"
             ],
             [
              0.6666666666666666,
              "#ed7953"
             ],
             [
              0.7777777777777778,
              "#fb9f3a"
             ],
             [
              0.8888888888888888,
              "#fdca26"
             ],
             [
              1,
              "#f0f921"
             ]
            ],
            "type": "heatmapgl"
           }
          ],
          "histogram": [
           {
            "marker": {
             "colorbar": {
              "outlinewidth": 0,
              "ticks": ""
             }
            },
            "type": "histogram"
           }
          ],
          "histogram2d": [
           {
            "colorbar": {
             "outlinewidth": 0,
             "ticks": ""
            },
            "colorscale": [
             [
              0,
              "#0d0887"
             ],
             [
              0.1111111111111111,
              "#46039f"
             ],
             [
              0.2222222222222222,
              "#7201a8"
             ],
             [
              0.3333333333333333,
              "#9c179e"
             ],
             [
              0.4444444444444444,
              "#bd3786"
             ],
             [
              0.5555555555555556,
              "#d8576b"
             ],
             [
              0.6666666666666666,
              "#ed7953"
             ],
             [
              0.7777777777777778,
              "#fb9f3a"
             ],
             [
              0.8888888888888888,
              "#fdca26"
             ],
             [
              1,
              "#f0f921"
             ]
            ],
            "type": "histogram2d"
           }
          ],
          "histogram2dcontour": [
           {
            "colorbar": {
             "outlinewidth": 0,
             "ticks": ""
            },
            "colorscale": [
             [
              0,
              "#0d0887"
             ],
             [
              0.1111111111111111,
              "#46039f"
             ],
             [
              0.2222222222222222,
              "#7201a8"
             ],
             [
              0.3333333333333333,
              "#9c179e"
             ],
             [
              0.4444444444444444,
              "#bd3786"
             ],
             [
              0.5555555555555556,
              "#d8576b"
             ],
             [
              0.6666666666666666,
              "#ed7953"
             ],
             [
              0.7777777777777778,
              "#fb9f3a"
             ],
             [
              0.8888888888888888,
              "#fdca26"
             ],
             [
              1,
              "#f0f921"
             ]
            ],
            "type": "histogram2dcontour"
           }
          ],
          "mesh3d": [
           {
            "colorbar": {
             "outlinewidth": 0,
             "ticks": ""
            },
            "type": "mesh3d"
           }
          ],
          "parcoords": [
           {
            "line": {
             "colorbar": {
              "outlinewidth": 0,
              "ticks": ""
             }
            },
            "type": "parcoords"
           }
          ],
          "pie": [
           {
            "automargin": true,
            "type": "pie"
           }
          ],
          "scatter": [
           {
            "marker": {
             "colorbar": {
              "outlinewidth": 0,
              "ticks": ""
             }
            },
            "type": "scatter"
           }
          ],
          "scatter3d": [
           {
            "line": {
             "colorbar": {
              "outlinewidth": 0,
              "ticks": ""
             }
            },
            "marker": {
             "colorbar": {
              "outlinewidth": 0,
              "ticks": ""
             }
            },
            "type": "scatter3d"
           }
          ],
          "scattercarpet": [
           {
            "marker": {
             "colorbar": {
              "outlinewidth": 0,
              "ticks": ""
             }
            },
            "type": "scattercarpet"
           }
          ],
          "scattergeo": [
           {
            "marker": {
             "colorbar": {
              "outlinewidth": 0,
              "ticks": ""
             }
            },
            "type": "scattergeo"
           }
          ],
          "scattergl": [
           {
            "marker": {
             "colorbar": {
              "outlinewidth": 0,
              "ticks": ""
             }
            },
            "type": "scattergl"
           }
          ],
          "scattermapbox": [
           {
            "marker": {
             "colorbar": {
              "outlinewidth": 0,
              "ticks": ""
             }
            },
            "type": "scattermapbox"
           }
          ],
          "scatterpolar": [
           {
            "marker": {
             "colorbar": {
              "outlinewidth": 0,
              "ticks": ""
             }
            },
            "type": "scatterpolar"
           }
          ],
          "scatterpolargl": [
           {
            "marker": {
             "colorbar": {
              "outlinewidth": 0,
              "ticks": ""
             }
            },
            "type": "scatterpolargl"
           }
          ],
          "scatterternary": [
           {
            "marker": {
             "colorbar": {
              "outlinewidth": 0,
              "ticks": ""
             }
            },
            "type": "scatterternary"
           }
          ],
          "surface": [
           {
            "colorbar": {
             "outlinewidth": 0,
             "ticks": ""
            },
            "colorscale": [
             [
              0,
              "#0d0887"
             ],
             [
              0.1111111111111111,
              "#46039f"
             ],
             [
              0.2222222222222222,
              "#7201a8"
             ],
             [
              0.3333333333333333,
              "#9c179e"
             ],
             [
              0.4444444444444444,
              "#bd3786"
             ],
             [
              0.5555555555555556,
              "#d8576b"
             ],
             [
              0.6666666666666666,
              "#ed7953"
             ],
             [
              0.7777777777777778,
              "#fb9f3a"
             ],
             [
              0.8888888888888888,
              "#fdca26"
             ],
             [
              1,
              "#f0f921"
             ]
            ],
            "type": "surface"
           }
          ],
          "table": [
           {
            "cells": {
             "fill": {
              "color": "#EBF0F8"
             },
             "line": {
              "color": "white"
             }
            },
            "header": {
             "fill": {
              "color": "#C8D4E3"
             },
             "line": {
              "color": "white"
             }
            },
            "type": "table"
           }
          ]
         },
         "layout": {
          "annotationdefaults": {
           "arrowcolor": "#2a3f5f",
           "arrowhead": 0,
           "arrowwidth": 1
          },
          "coloraxis": {
           "colorbar": {
            "outlinewidth": 0,
            "ticks": ""
           }
          },
          "colorscale": {
           "diverging": [
            [
             0,
             "#8e0152"
            ],
            [
             0.1,
             "#c51b7d"
            ],
            [
             0.2,
             "#de77ae"
            ],
            [
             0.3,
             "#f1b6da"
            ],
            [
             0.4,
             "#fde0ef"
            ],
            [
             0.5,
             "#f7f7f7"
            ],
            [
             0.6,
             "#e6f5d0"
            ],
            [
             0.7,
             "#b8e186"
            ],
            [
             0.8,
             "#7fbc41"
            ],
            [
             0.9,
             "#4d9221"
            ],
            [
             1,
             "#276419"
            ]
           ],
           "sequential": [
            [
             0,
             "#0d0887"
            ],
            [
             0.1111111111111111,
             "#46039f"
            ],
            [
             0.2222222222222222,
             "#7201a8"
            ],
            [
             0.3333333333333333,
             "#9c179e"
            ],
            [
             0.4444444444444444,
             "#bd3786"
            ],
            [
             0.5555555555555556,
             "#d8576b"
            ],
            [
             0.6666666666666666,
             "#ed7953"
            ],
            [
             0.7777777777777778,
             "#fb9f3a"
            ],
            [
             0.8888888888888888,
             "#fdca26"
            ],
            [
             1,
             "#f0f921"
            ]
           ],
           "sequentialminus": [
            [
             0,
             "#0d0887"
            ],
            [
             0.1111111111111111,
             "#46039f"
            ],
            [
             0.2222222222222222,
             "#7201a8"
            ],
            [
             0.3333333333333333,
             "#9c179e"
            ],
            [
             0.4444444444444444,
             "#bd3786"
            ],
            [
             0.5555555555555556,
             "#d8576b"
            ],
            [
             0.6666666666666666,
             "#ed7953"
            ],
            [
             0.7777777777777778,
             "#fb9f3a"
            ],
            [
             0.8888888888888888,
             "#fdca26"
            ],
            [
             1,
             "#f0f921"
            ]
           ]
          },
          "colorway": [
           "#636efa",
           "#EF553B",
           "#00cc96",
           "#ab63fa",
           "#FFA15A",
           "#19d3f3",
           "#FF6692",
           "#B6E880",
           "#FF97FF",
           "#FECB52"
          ],
          "font": {
           "color": "#2a3f5f"
          },
          "geo": {
           "bgcolor": "white",
           "lakecolor": "white",
           "landcolor": "#E5ECF6",
           "showlakes": true,
           "showland": true,
           "subunitcolor": "white"
          },
          "hoverlabel": {
           "align": "left"
          },
          "hovermode": "closest",
          "mapbox": {
           "style": "light"
          },
          "paper_bgcolor": "white",
          "plot_bgcolor": "#E5ECF6",
          "polar": {
           "angularaxis": {
            "gridcolor": "white",
            "linecolor": "white",
            "ticks": ""
           },
           "bgcolor": "#E5ECF6",
           "radialaxis": {
            "gridcolor": "white",
            "linecolor": "white",
            "ticks": ""
           }
          },
          "scene": {
           "xaxis": {
            "backgroundcolor": "#E5ECF6",
            "gridcolor": "white",
            "gridwidth": 2,
            "linecolor": "white",
            "showbackground": true,
            "ticks": "",
            "zerolinecolor": "white"
           },
           "yaxis": {
            "backgroundcolor": "#E5ECF6",
            "gridcolor": "white",
            "gridwidth": 2,
            "linecolor": "white",
            "showbackground": true,
            "ticks": "",
            "zerolinecolor": "white"
           },
           "zaxis": {
            "backgroundcolor": "#E5ECF6",
            "gridcolor": "white",
            "gridwidth": 2,
            "linecolor": "white",
            "showbackground": true,
            "ticks": "",
            "zerolinecolor": "white"
           }
          },
          "shapedefaults": {
           "line": {
            "color": "#2a3f5f"
           }
          },
          "ternary": {
           "aaxis": {
            "gridcolor": "white",
            "linecolor": "white",
            "ticks": ""
           },
           "baxis": {
            "gridcolor": "white",
            "linecolor": "white",
            "ticks": ""
           },
           "bgcolor": "#E5ECF6",
           "caxis": {
            "gridcolor": "white",
            "linecolor": "white",
            "ticks": ""
           }
          },
          "title": {
           "x": 0.05
          },
          "xaxis": {
           "automargin": true,
           "gridcolor": "white",
           "linecolor": "white",
           "ticks": "",
           "title": {
            "standoff": 15
           },
           "zerolinecolor": "white",
           "zerolinewidth": 2
          },
          "yaxis": {
           "automargin": true,
           "gridcolor": "white",
           "linecolor": "white",
           "ticks": "",
           "title": {
            "standoff": 15
           },
           "zerolinecolor": "white",
           "zerolinewidth": 2
          }
         }
        },
        "title": {
         "text": "plot showing Countries with most number of Deaths"
        }
       }
      },
      "text/html": [
       "<div>\n",
       "        \n",
       "        \n",
       "            <div id=\"72ed513a-959e-4c52-8d14-5b28efb1d06f\" class=\"plotly-graph-div\" style=\"height:525px; width:100%;\"></div>\n",
       "            <script type=\"text/javascript\">\n",
       "                require([\"plotly\"], function(Plotly) {\n",
       "                    window.PLOTLYENV=window.PLOTLYENV || {};\n",
       "                    \n",
       "                if (document.getElementById(\"72ed513a-959e-4c52-8d14-5b28efb1d06f\")) {\n",
       "                    Plotly.newPlot(\n",
       "                        '72ed513a-959e-4c52-8d14-5b28efb1d06f',\n",
       "                        [{\"autocolorscale\": true, \"colorbar\": {\"title\": {\"text\": \"TotalDeath\"}}, \"locationmode\": \"country names\", \"locations\": [\"Afghanistan\", \"Albania\", \"Algeria\", \"Andorra\", \"Angola\", \"Antigua and Barbuda\", \"Argentina\", \"Armenia\", \"Australia\", \"Austria\", \"Azerbaijan\", \"Bahamas\", \"Bahrain\", \"Bangladesh\", \"Barbados\", \"Belarus\", \"Belgium\", \"Belize\", \"Benin\", \"Bhutan\", \"Bosnia and Herzegovina\", \"Botswana\", \"Brazil\", \"Brunei Darussalam\", \"Bulgaria\", \"Burkina Faso\", \"Burundi\", \"Cabo Verde\", \"Cambodia\", \"Cameroon\", \"Canada\", \"Central African Republic\", \"Chad\", \"Chile\", \"China\", \"Colombia\", \"Comoros\", \"Congo\", \"Cook Islands\", \"Costa Rica\", \"Croatia\", \"Cuba\", \"Cyprus\", \"Czechia\", \"C\\u00f4te d'Ivoire\", \"Democratic People's Republic of Korea\", \"Democratic Republic of the Congo\", \"Denmark\", \"Djibouti\", \"Dominica\", \"Dominican Republic\", \"Ecuador\", \"Egypt\", \"El Salvador\", \"Equatorial Guinea\", \"Eritrea\", \"Estonia\", \"Eswatini\", \"Ethiopia\", \"Fiji\", \"Finland\", \"France\", \"Gabon\", \"Gambia\", \"Georgia\", \"Germany\", \"Ghana\", \"Greece\", \"Grenada\", \"Guatemala\", \"Guinea\", \"Guinea-Bissau\", \"Guyana\", \"Haiti\", \"Honduras\", \"Hungary\", \"Iceland\", \"India\", \"Indonesia\", \"Iraq\", \"Ireland\", \"Israel\", \"Italy\", \"Jamaica\", \"Japan\", \"Jordan\", \"Kazakhstan\", \"Kenya\", \"Kiribati\", \"Kuwait\", \"Kyrgyzstan\", \"Lao People's Democratic Republic\", \"Latvia\", \"Lebanon\", \"Lesotho\", \"Liberia\", \"Libya\", \"Lithuania\", \"Luxembourg\", \"Madagascar\", \"Malawi\", \"Malaysia\", \"Maldives\", \"Mali\", \"Malta\", \"Marshall Islands\", \"Mauritania\", \"Mauritius\", \"Mexico\", \"Monaco\", \"Mongolia\", \"Montenegro\", \"Morocco\", \"Mozambique\", \"Myanmar\", \"Namibia\", \"Nauru\", \"Nepal\", \"Netherlands\", \"New Zealand\", \"Nicaragua\", \"Niger\", \"Nigeria\", \"Niue\", \"Norway\", \"Oman\", \"Pakistan\", \"Palau\", \"Panama\", \"Papua New Guinea\", \"Paraguay\", \"Peru\", \"Philippines\", \"Poland\", \"Portugal\", \"Qatar\", \"Republic of Moldova\", \"Republic of North Macedonia\", \"Romania\", \"Russian Federation\", \"Rwanda\", \"Saint Kitts and Nevis\", \"Saint Lucia\", \"Saint Vincent and the Grenadines\", \"Samoa\", \"San Marino\", \"Sao Tome and Principe\", \"Saudi Arabia\", \"Senegal\", \"Serbia\", \"Seychelles\", \"Sierra Leone\", \"Singapore\", \"Slovakia\", \"Slovenia\", \"Solomon Islands\", \"Somalia\", \"South Africa\", \"South Sudan\", \"Spain\", \"Sri Lanka\", \"Sudan\", \"Suriname\", \"Sweden\", \"Switzerland\", \"Syrian Arab Republic\", \"Tajikistan\", \"Thailand\", \"Togo\", \"Tonga\", \"Trinidad and Tobago\", \"Tunisia\", \"Turkey\", \"Turkmenistan\", \"Tuvalu\", \"Uganda\", \"Ukraine\", \"United Arab Emirates\", \"United Kingdom of Great Britain and Northern Ireland\", \"United Republic of Tanzania\", \"United States of America\", \"Uruguay\", \"Uzbekistan\", \"Vanuatu\", \"Viet Nam\", \"Yemen\", \"Zambia\", \"Zimbabwe\"], \"marker\": {\"line\": {\"color\": \"rgb(255,255,255)\", \"width\": 2}}, \"type\": \"choropleth\", \"z\": [12678.685185185184, 63.351851851851855, 2127.314814814815, 0.0, 17672.87037037037, 0.5555555555555556, 550.4074074074074, 87.07407407407408, 27.425925925925927, 4.12962962962963, 730.7037037037037, 6.981481481481482, 3.5, 23495.037037037036, 1.0555555555555556, 47.31481481481482, 8.87037037037037, 9.666666666666666, 3892.796296296296, 96.05555555555556, 14.962962962962964, 162.5, 4402.055555555556, 2.5555555555555554, 107.9074074074074, 5701.777777777777, 3884.8888888888887, 27.40740740740741, 2618.777777777778, 9001.666666666666, 23.77777777777778, 2163.296296296296, 11524.037037037036, 84.62962962962963, 33850.09259259259, 1105.6666666666667, 259.75925925925924, 1095.648148148148, 0.2962962962962963, 28.5, 6.111111111111111, 59.611111111111114, 0.5185185185185185, 15.018518518518519, 8068.648148148148, 1420.148148148148, 27134.62962962963, 2.9814814814814814, 189.72222222222223, 0.6111111111111112, 607.8518518518518, 579.0555555555555, 6454.148148148148, 279.48148148148147, 340.48148148148147, 1187.6666666666667, 2.574074074074074, 366.01851851851853, 36784.81481481482, 40.44444444444444, 2.888888888888889, 33.27777777777778, 295.1111111111111, 597.7962962962963, 93.72222222222223, 42.666666666666664, 4819.537037037037, 15.203703703703704, 1.2407407407407407, 1989.4259259259259, 5066.666666666667, 849.6296296296297, 35.111111111111114, 3454.777777777778, 471.2962962962963, 22.796296296296298, 0.0, 201883.0185185185, 20978.88888888889, 4165.981481481482, 4.592592592592593, 8.407407407407407, 21.925925925925927, 22.90740740740741, 165.55555555555554, 278.68518518518516, 769.0, 9620.518518518518, 22.703703703703702, 20.87037037037037, 708.7592592592592, 2086.222222222222, 6.833333333333333, 43.18518518518518, 602.1296296296297, 1713.2962962962963, 162.33333333333334, 10.74074074074074, 0.1111111111111111, 7203.0, 4805.592592592592, 178.3148148148148, 11.296296296296296, 10508.407407407407, 0.25925925925925924, 7.648148148148148, 1488.2962962962963, 13.222222222222221, 3854.3518518518517, 0.0, 207.40740740740742, 2.425925925925926, 2212.3333333333335, 9376.12962962963, 9685.166666666666, 386.462962962963, 0.6666666666666666, 4337.37037037037, 11.685185185185185, 15.61111111111111, 433.01851851851853, 13022.074074074075, 98540.31481481482, 0.0, 3.037037037037037, 41.388888888888886, 52794.2962962963, 0.2962962962962963, 118.66666666666667, 1497.8703703703704, 330.537037037037, 1220.4814814814815, 10063.314814814816, 75.87037037037037, 9.87037037037037, 5.111111111111111, 131.0185185185185, 13.87037037037037, 619.9629629629629, 1254.7592592592594, 3559.537037037037, 0.24074074074074073, 1.8703703703703705, 1.0740740740740742, 7.12962962962963, 0.0, 34.629629629629626, 410.55555555555554, 4266.055555555556, 28.48148148148148, 1.0185185185185186, 3773.037037037037, 12.555555555555555, 30.037037037037038, 1.0740740740740742, 49.72222222222222, 11630.611111111111, 6239.018518518518, 5663.666666666667, 26.203703703703702, 271.27777777777777, 12330.796296296296, 12.851851851851851, 7.074074074074074, 3.8518518518518516, 703.5925925925926, 1424.2037037037037, 877.5555555555555, 1954.7592592592594, 3.9074074074074074, 27.037037037037038, 277.6666666666667, 1081.9444444444443, 948.4629629629629, 0.7962962962962963, 12487.25925925926, 416.77777777777777, 21.703703703703702, 104.5925925925926, 16340.37037037037, 603.1296296296297, 35.907407407407405, 2634.962962962963, 20.64814814814815, 3768.8703703703704, 6733.259259259259, 5571.740740740741, 3767.8333333333335]}],\n",
       "                        {\"template\": {\"data\": {\"bar\": [{\"error_x\": {\"color\": \"#2a3f5f\"}, \"error_y\": {\"color\": \"#2a3f5f\"}, \"marker\": {\"line\": {\"color\": \"#E5ECF6\", \"width\": 0.5}}, \"type\": \"bar\"}], \"barpolar\": [{\"marker\": {\"line\": {\"color\": \"#E5ECF6\", \"width\": 0.5}}, \"type\": \"barpolar\"}], \"carpet\": [{\"aaxis\": {\"endlinecolor\": \"#2a3f5f\", \"gridcolor\": \"white\", \"linecolor\": \"white\", \"minorgridcolor\": \"white\", \"startlinecolor\": \"#2a3f5f\"}, \"baxis\": {\"endlinecolor\": \"#2a3f5f\", \"gridcolor\": \"white\", \"linecolor\": \"white\", \"minorgridcolor\": \"white\", \"startlinecolor\": \"#2a3f5f\"}, \"type\": \"carpet\"}], \"choropleth\": [{\"colorbar\": {\"outlinewidth\": 0, \"ticks\": \"\"}, \"type\": \"choropleth\"}], \"contour\": [{\"colorbar\": {\"outlinewidth\": 0, \"ticks\": \"\"}, \"colorscale\": [[0.0, \"#0d0887\"], [0.1111111111111111, \"#46039f\"], [0.2222222222222222, \"#7201a8\"], [0.3333333333333333, \"#9c179e\"], [0.4444444444444444, \"#bd3786\"], [0.5555555555555556, \"#d8576b\"], [0.6666666666666666, \"#ed7953\"], [0.7777777777777778, \"#fb9f3a\"], [0.8888888888888888, \"#fdca26\"], [1.0, \"#f0f921\"]], \"type\": \"contour\"}], \"contourcarpet\": [{\"colorbar\": {\"outlinewidth\": 0, \"ticks\": \"\"}, \"type\": \"contourcarpet\"}], \"heatmap\": [{\"colorbar\": {\"outlinewidth\": 0, \"ticks\": \"\"}, \"colorscale\": [[0.0, \"#0d0887\"], [0.1111111111111111, \"#46039f\"], [0.2222222222222222, \"#7201a8\"], [0.3333333333333333, \"#9c179e\"], [0.4444444444444444, \"#bd3786\"], [0.5555555555555556, \"#d8576b\"], [0.6666666666666666, \"#ed7953\"], [0.7777777777777778, \"#fb9f3a\"], [0.8888888888888888, \"#fdca26\"], [1.0, \"#f0f921\"]], \"type\": \"heatmap\"}], \"heatmapgl\": [{\"colorbar\": {\"outlinewidth\": 0, \"ticks\": \"\"}, \"colorscale\": [[0.0, \"#0d0887\"], [0.1111111111111111, \"#46039f\"], [0.2222222222222222, \"#7201a8\"], [0.3333333333333333, \"#9c179e\"], [0.4444444444444444, \"#bd3786\"], [0.5555555555555556, \"#d8576b\"], [0.6666666666666666, \"#ed7953\"], [0.7777777777777778, \"#fb9f3a\"], [0.8888888888888888, \"#fdca26\"], [1.0, \"#f0f921\"]], \"type\": \"heatmapgl\"}], \"histogram\": [{\"marker\": {\"colorbar\": {\"outlinewidth\": 0, \"ticks\": \"\"}}, \"type\": \"histogram\"}], \"histogram2d\": [{\"colorbar\": {\"outlinewidth\": 0, \"ticks\": \"\"}, \"colorscale\": [[0.0, \"#0d0887\"], [0.1111111111111111, \"#46039f\"], [0.2222222222222222, \"#7201a8\"], [0.3333333333333333, \"#9c179e\"], [0.4444444444444444, \"#bd3786\"], [0.5555555555555556, \"#d8576b\"], [0.6666666666666666, \"#ed7953\"], [0.7777777777777778, \"#fb9f3a\"], [0.8888888888888888, \"#fdca26\"], [1.0, \"#f0f921\"]], \"type\": \"histogram2d\"}], \"histogram2dcontour\": [{\"colorbar\": {\"outlinewidth\": 0, \"ticks\": \"\"}, \"colorscale\": [[0.0, \"#0d0887\"], [0.1111111111111111, \"#46039f\"], [0.2222222222222222, \"#7201a8\"], [0.3333333333333333, \"#9c179e\"], [0.4444444444444444, \"#bd3786\"], [0.5555555555555556, \"#d8576b\"], [0.6666666666666666, \"#ed7953\"], [0.7777777777777778, \"#fb9f3a\"], [0.8888888888888888, \"#fdca26\"], [1.0, \"#f0f921\"]], \"type\": \"histogram2dcontour\"}], \"mesh3d\": [{\"colorbar\": {\"outlinewidth\": 0, \"ticks\": \"\"}, \"type\": \"mesh3d\"}], \"parcoords\": [{\"line\": {\"colorbar\": {\"outlinewidth\": 0, \"ticks\": \"\"}}, \"type\": \"parcoords\"}], \"pie\": [{\"automargin\": true, \"type\": \"pie\"}], \"scatter\": [{\"marker\": {\"colorbar\": {\"outlinewidth\": 0, \"ticks\": \"\"}}, \"type\": \"scatter\"}], \"scatter3d\": [{\"line\": {\"colorbar\": {\"outlinewidth\": 0, \"ticks\": \"\"}}, \"marker\": {\"colorbar\": {\"outlinewidth\": 0, \"ticks\": \"\"}}, \"type\": \"scatter3d\"}], \"scattercarpet\": [{\"marker\": {\"colorbar\": {\"outlinewidth\": 0, \"ticks\": \"\"}}, \"type\": \"scattercarpet\"}], \"scattergeo\": [{\"marker\": {\"colorbar\": {\"outlinewidth\": 0, \"ticks\": \"\"}}, \"type\": \"scattergeo\"}], \"scattergl\": [{\"marker\": {\"colorbar\": {\"outlinewidth\": 0, \"ticks\": \"\"}}, \"type\": \"scattergl\"}], \"scattermapbox\": [{\"marker\": {\"colorbar\": {\"outlinewidth\": 0, \"ticks\": \"\"}}, \"type\": \"scattermapbox\"}], \"scatterpolar\": [{\"marker\": {\"colorbar\": {\"outlinewidth\": 0, \"ticks\": \"\"}}, \"type\": \"scatterpolar\"}], \"scatterpolargl\": [{\"marker\": {\"colorbar\": {\"outlinewidth\": 0, \"ticks\": \"\"}}, \"type\": \"scatterpolargl\"}], \"scatterternary\": [{\"marker\": {\"colorbar\": {\"outlinewidth\": 0, \"ticks\": \"\"}}, \"type\": \"scatterternary\"}], \"surface\": [{\"colorbar\": {\"outlinewidth\": 0, \"ticks\": \"\"}, \"colorscale\": [[0.0, \"#0d0887\"], [0.1111111111111111, \"#46039f\"], [0.2222222222222222, \"#7201a8\"], [0.3333333333333333, \"#9c179e\"], [0.4444444444444444, \"#bd3786\"], [0.5555555555555556, \"#d8576b\"], [0.6666666666666666, \"#ed7953\"], [0.7777777777777778, \"#fb9f3a\"], [0.8888888888888888, \"#fdca26\"], [1.0, \"#f0f921\"]], \"type\": \"surface\"}], \"table\": [{\"cells\": {\"fill\": {\"color\": \"#EBF0F8\"}, \"line\": {\"color\": \"white\"}}, \"header\": {\"fill\": {\"color\": \"#C8D4E3\"}, \"line\": {\"color\": \"white\"}}, \"type\": \"table\"}]}, \"layout\": {\"annotationdefaults\": {\"arrowcolor\": \"#2a3f5f\", \"arrowhead\": 0, \"arrowwidth\": 1}, \"coloraxis\": {\"colorbar\": {\"outlinewidth\": 0, \"ticks\": \"\"}}, \"colorscale\": {\"diverging\": [[0, \"#8e0152\"], [0.1, \"#c51b7d\"], [0.2, \"#de77ae\"], [0.3, \"#f1b6da\"], [0.4, \"#fde0ef\"], [0.5, \"#f7f7f7\"], [0.6, \"#e6f5d0\"], [0.7, \"#b8e186\"], [0.8, \"#7fbc41\"], [0.9, \"#4d9221\"], [1, \"#276419\"]], \"sequential\": [[0.0, \"#0d0887\"], [0.1111111111111111, \"#46039f\"], [0.2222222222222222, \"#7201a8\"], [0.3333333333333333, \"#9c179e\"], [0.4444444444444444, \"#bd3786\"], [0.5555555555555556, \"#d8576b\"], [0.6666666666666666, \"#ed7953\"], [0.7777777777777778, \"#fb9f3a\"], [0.8888888888888888, \"#fdca26\"], [1.0, \"#f0f921\"]], \"sequentialminus\": [[0.0, \"#0d0887\"], [0.1111111111111111, \"#46039f\"], [0.2222222222222222, \"#7201a8\"], [0.3333333333333333, \"#9c179e\"], [0.4444444444444444, \"#bd3786\"], [0.5555555555555556, \"#d8576b\"], [0.6666666666666666, \"#ed7953\"], [0.7777777777777778, \"#fb9f3a\"], [0.8888888888888888, \"#fdca26\"], [1.0, \"#f0f921\"]]}, \"colorway\": [\"#636efa\", \"#EF553B\", \"#00cc96\", \"#ab63fa\", \"#FFA15A\", \"#19d3f3\", \"#FF6692\", \"#B6E880\", \"#FF97FF\", \"#FECB52\"], \"font\": {\"color\": \"#2a3f5f\"}, \"geo\": {\"bgcolor\": \"white\", \"lakecolor\": \"white\", \"landcolor\": \"#E5ECF6\", \"showlakes\": true, \"showland\": true, \"subunitcolor\": \"white\"}, \"hoverlabel\": {\"align\": \"left\"}, \"hovermode\": \"closest\", \"mapbox\": {\"style\": \"light\"}, \"paper_bgcolor\": \"white\", \"plot_bgcolor\": \"#E5ECF6\", \"polar\": {\"angularaxis\": {\"gridcolor\": \"white\", \"linecolor\": \"white\", \"ticks\": \"\"}, \"bgcolor\": \"#E5ECF6\", \"radialaxis\": {\"gridcolor\": \"white\", \"linecolor\": \"white\", \"ticks\": \"\"}}, \"scene\": {\"xaxis\": {\"backgroundcolor\": \"#E5ECF6\", \"gridcolor\": \"white\", \"gridwidth\": 2, \"linecolor\": \"white\", \"showbackground\": true, \"ticks\": \"\", \"zerolinecolor\": \"white\"}, \"yaxis\": {\"backgroundcolor\": \"#E5ECF6\", \"gridcolor\": \"white\", \"gridwidth\": 2, \"linecolor\": \"white\", \"showbackground\": true, \"ticks\": \"\", \"zerolinecolor\": \"white\"}, \"zaxis\": {\"backgroundcolor\": \"#E5ECF6\", \"gridcolor\": \"white\", \"gridwidth\": 2, \"linecolor\": \"white\", \"showbackground\": true, \"ticks\": \"\", \"zerolinecolor\": \"white\"}}, \"shapedefaults\": {\"line\": {\"color\": \"#2a3f5f\"}}, \"ternary\": {\"aaxis\": {\"gridcolor\": \"white\", \"linecolor\": \"white\", \"ticks\": \"\"}, \"baxis\": {\"gridcolor\": \"white\", \"linecolor\": \"white\", \"ticks\": \"\"}, \"bgcolor\": \"#E5ECF6\", \"caxis\": {\"gridcolor\": \"white\", \"linecolor\": \"white\", \"ticks\": \"\"}}, \"title\": {\"x\": 0.05}, \"xaxis\": {\"automargin\": true, \"gridcolor\": \"white\", \"linecolor\": \"white\", \"ticks\": \"\", \"title\": {\"standoff\": 15}, \"zerolinecolor\": \"white\", \"zerolinewidth\": 2}, \"yaxis\": {\"automargin\": true, \"gridcolor\": \"white\", \"linecolor\": \"white\", \"ticks\": \"\", \"title\": {\"standoff\": 15}, \"zerolinecolor\": \"white\", \"zerolinewidth\": 2}}}, \"title\": {\"text\": \"plot showing Countries with most number of Deaths\"}},\n",
       "                        {\"responsive\": true}\n",
       "                    ).then(function(){\n",
       "                            \n",
       "var gd = document.getElementById('72ed513a-959e-4c52-8d14-5b28efb1d06f');\n",
       "var x = new MutationObserver(function (mutations, observer) {{\n",
       "        var display = window.getComputedStyle(gd).display;\n",
       "        if (!display || display === 'none') {{\n",
       "            console.log([gd, 'removed!']);\n",
       "            Plotly.purge(gd);\n",
       "            observer.disconnect();\n",
       "        }}\n",
       "}});\n",
       "\n",
       "// Listen for the removal of the full notebook cells\n",
       "var notebookContainer = gd.closest('#notebook-container');\n",
       "if (notebookContainer) {{\n",
       "    x.observe(notebookContainer, {childList: true});\n",
       "}}\n",
       "\n",
       "// Listen for the clearing of the current output cell\n",
       "var outputEl = gd.closest('.output');\n",
       "if (outputEl) {{\n",
       "    x.observe(outputEl, {childList: true});\n",
       "}}\n",
       "\n",
       "                        })\n",
       "                };\n",
       "                });\n",
       "            </script>\n",
       "        </div>"
      ]
     },
     "metadata": {},
     "output_type": "display_data"
    }
   ],
   "source": [
    "data = [ dict(type='choropleth',autocolorscale = True,locations = Hyp10['Country'],z = Hyp10['Resp_Inf'],\n",
    "              locationmode = 'country names',marker = dict(line = dict (color = 'rgb(255,255,255)',width = 2)),\n",
    "              colorbar = dict(title = \"TotalDeath\")) ]\n",
    "layout = dict(title = 'plot showing Countries with most number of Deaths')\n",
    "fig = go.Figure(data = data, layout = layout)\n",
    "py.offline.iplot(fig)"
   ]
  },
  {
   "cell_type": "markdown",
   "metadata": {
    "colab_type": "text",
    "id": "uCYQ2wXTP3xX"
   },
   "source": [
    "The above plot is about total number of deaths caused by respiratory infections in children between age group of 0-5 years.\n",
    "You can also pan, zoom in and out, box and reset the plot."
   ]
  },
  {
   "cell_type": "markdown",
   "metadata": {},
   "source": [
    "#RESULTS:\n",
    "1. Consistent decrease in mortality rate is observed.\n",
    "2. Respiratory diseases are main reason for deaths in Africa.\n"
   ]
  }
 ],
 "metadata": {
  "colab": {
   "name": "DATA601_FINALPROJECT_Child_Deaths_DATA.ipynb",
   "provenance": []
  },
  "kernelspec": {
   "display_name": "Python 3",
   "language": "python",
   "name": "python3"
  },
  "language_info": {
   "codemirror_mode": {
    "name": "ipython",
    "version": 3
   },
   "file_extension": ".py",
   "mimetype": "text/x-python",
   "name": "python",
   "nbconvert_exporter": "python",
   "pygments_lexer": "ipython3",
   "version": "3.7.1"
  }
 },
 "nbformat": 4,
 "nbformat_minor": 1
}
